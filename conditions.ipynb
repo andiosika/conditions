{
 "cells": [
  {
   "cell_type": "code",
   "execution_count": 6,
   "metadata": {
    "ExecuteTime": {
     "end_time": "2021-02-10T13:58:18.906649Z",
     "start_time": "2021-02-10T13:58:18.893313Z"
    }
   },
   "outputs": [],
   "source": [
    "import pandas as pd\n"
   ]
  },
  {
   "cell_type": "code",
   "execution_count": 7,
   "metadata": {
    "ExecuteTime": {
     "end_time": "2021-02-10T13:58:26.663597Z",
     "start_time": "2021-02-10T13:58:18.915782Z"
    }
   },
   "outputs": [],
   "source": [
    "data = pd.read_csv('fd-export.csv')"
   ]
  },
  {
   "cell_type": "code",
   "execution_count": 8,
   "metadata": {
    "ExecuteTime": {
     "end_time": "2021-02-10T13:58:26.707715Z",
     "start_time": "2021-02-10T13:58:26.669328Z"
    }
   },
   "outputs": [
    {
     "data": {
      "text/html": [
       "<div>\n",
       "<style scoped>\n",
       "    .dataframe tbody tr th:only-of-type {\n",
       "        vertical-align: middle;\n",
       "    }\n",
       "\n",
       "    .dataframe tbody tr th {\n",
       "        vertical-align: top;\n",
       "    }\n",
       "\n",
       "    .dataframe thead th {\n",
       "        text-align: right;\n",
       "    }\n",
       "</style>\n",
       "<table border=\"1\" class=\"dataframe\">\n",
       "  <thead>\n",
       "    <tr style=\"text-align: right;\">\n",
       "      <th></th>\n",
       "      <th>user_id</th>\n",
       "      <th>age</th>\n",
       "      <th>sex</th>\n",
       "      <th>country</th>\n",
       "      <th>checkin_date</th>\n",
       "      <th>trackable_id</th>\n",
       "      <th>trackable_type</th>\n",
       "      <th>trackable_name</th>\n",
       "      <th>trackable_value</th>\n",
       "    </tr>\n",
       "  </thead>\n",
       "  <tbody>\n",
       "    <tr>\n",
       "      <td>0</td>\n",
       "      <td>QEVuQwEABlEzkh7fsBBjEe26RyIVcg==</td>\n",
       "      <td>NaN</td>\n",
       "      <td>NaN</td>\n",
       "      <td>NaN</td>\n",
       "      <td>2015-11-26</td>\n",
       "      <td>1069</td>\n",
       "      <td>Condition</td>\n",
       "      <td>Ulcerative colitis</td>\n",
       "      <td>0</td>\n",
       "    </tr>\n",
       "    <tr>\n",
       "      <td>1</td>\n",
       "      <td>QEVuQwEAWRNGnuTRqXG2996KSkTIEw==</td>\n",
       "      <td>31.0</td>\n",
       "      <td>male</td>\n",
       "      <td>US</td>\n",
       "      <td>2015-11-26</td>\n",
       "      <td>1069</td>\n",
       "      <td>Condition</td>\n",
       "      <td>Ulcerative colitis</td>\n",
       "      <td>0</td>\n",
       "    </tr>\n",
       "    <tr>\n",
       "      <td>2</td>\n",
       "      <td>QEVuQwEA+WkNxtp/qkHvN2YmTBBDqg==</td>\n",
       "      <td>1.0</td>\n",
       "      <td>female</td>\n",
       "      <td>CA</td>\n",
       "      <td>2017-04-28</td>\n",
       "      <td>3168</td>\n",
       "      <td>Condition</td>\n",
       "      <td>pain in left upper arm felt like i was getting...</td>\n",
       "      <td>4</td>\n",
       "    </tr>\n",
       "    <tr>\n",
       "      <td>3</td>\n",
       "      <td>QEVuQwEA+WkNxtp/qkHvN2YmTBBDqg==</td>\n",
       "      <td>1.0</td>\n",
       "      <td>female</td>\n",
       "      <td>CA</td>\n",
       "      <td>2017-04-28</td>\n",
       "      <td>3169</td>\n",
       "      <td>Condition</td>\n",
       "      <td>hip pain when gettin up</td>\n",
       "      <td>3</td>\n",
       "    </tr>\n",
       "    <tr>\n",
       "      <td>4</td>\n",
       "      <td>QEVuQwEA+WkNxtp/qkHvN2YmTBBDqg==</td>\n",
       "      <td>1.0</td>\n",
       "      <td>female</td>\n",
       "      <td>CA</td>\n",
       "      <td>2017-04-28</td>\n",
       "      <td>3170</td>\n",
       "      <td>Condition</td>\n",
       "      <td>pain in hand joints</td>\n",
       "      <td>4</td>\n",
       "    </tr>\n",
       "  </tbody>\n",
       "</table>\n",
       "</div>"
      ],
      "text/plain": [
       "                            user_id   age     sex country checkin_date  \\\n",
       "0  QEVuQwEABlEzkh7fsBBjEe26RyIVcg==   NaN     NaN     NaN   2015-11-26   \n",
       "1  QEVuQwEAWRNGnuTRqXG2996KSkTIEw==  31.0    male      US   2015-11-26   \n",
       "2  QEVuQwEA+WkNxtp/qkHvN2YmTBBDqg==   1.0  female      CA   2017-04-28   \n",
       "3  QEVuQwEA+WkNxtp/qkHvN2YmTBBDqg==   1.0  female      CA   2017-04-28   \n",
       "4  QEVuQwEA+WkNxtp/qkHvN2YmTBBDqg==   1.0  female      CA   2017-04-28   \n",
       "\n",
       "  trackable_id trackable_type  \\\n",
       "0         1069      Condition   \n",
       "1         1069      Condition   \n",
       "2         3168      Condition   \n",
       "3         3169      Condition   \n",
       "4         3170      Condition   \n",
       "\n",
       "                                      trackable_name trackable_value  \n",
       "0                                 Ulcerative colitis               0  \n",
       "1                                 Ulcerative colitis               0  \n",
       "2  pain in left upper arm felt like i was getting...               4  \n",
       "3                            hip pain when gettin up               3  \n",
       "4                                pain in hand joints               4  "
      ]
     },
     "execution_count": 8,
     "metadata": {},
     "output_type": "execute_result"
    }
   ],
   "source": [
    "#made sure the data loaded\n",
    "data.head()"
   ]
  },
  {
   "cell_type": "code",
   "execution_count": 9,
   "metadata": {
    "ExecuteTime": {
     "end_time": "2021-02-10T13:58:26.739201Z",
     "start_time": "2021-02-10T13:58:26.709838Z"
    }
   },
   "outputs": [
    {
     "name": "stdout",
     "output_type": "stream",
     "text": [
      "<class 'pandas.core.frame.DataFrame'>\n",
      "RangeIndex: 3487633 entries, 0 to 3487632\n",
      "Data columns (total 9 columns):\n",
      "user_id            object\n",
      "age                float64\n",
      "sex                object\n",
      "country            object\n",
      "checkin_date       object\n",
      "trackable_id       object\n",
      "trackable_type     object\n",
      "trackable_name     object\n",
      "trackable_value    object\n",
      "dtypes: float64(1), object(8)\n",
      "memory usage: 239.5+ MB\n"
     ]
    }
   ],
   "source": [
    "data.info()"
   ]
  },
  {
   "cell_type": "code",
   "execution_count": null,
   "metadata": {
    "ExecuteTime": {
     "end_time": "2021-02-10T13:54:10.566271Z",
     "start_time": "2021-02-10T13:54:10.525700Z"
    }
   },
   "outputs": [],
   "source": [
    "\n"
   ]
  },
  {
   "cell_type": "code",
   "execution_count": 10,
   "metadata": {
    "ExecuteTime": {
     "end_time": "2021-02-10T13:58:27.296679Z",
     "start_time": "2021-02-10T13:58:26.745175Z"
    }
   },
   "outputs": [
    {
     "name": "stdout",
     "output_type": "stream",
     "text": [
      "There are 62682 unique conditions\n"
     ]
    }
   ],
   "source": [
    "uni = len(data['trackable_name'].unique())\n",
    "print(f\"There are {uni} unique conditions\")\n"
   ]
  },
  {
   "cell_type": "code",
   "execution_count": 11,
   "metadata": {
    "ExecuteTime": {
     "end_time": "2021-02-10T13:58:27.642101Z",
     "start_time": "2021-02-10T13:58:27.302663Z"
    }
   },
   "outputs": [
    {
     "name": "stdout",
     "output_type": "stream",
     "text": [
      "There are 8628 unique trackable values\n"
     ]
    }
   ],
   "source": [
    "tvu = len(data['trackable_value'].unique())\n",
    "print(f\"There are {tvu} unique trackable values\")"
   ]
  },
  {
   "cell_type": "code",
   "execution_count": 12,
   "metadata": {
    "ExecuteTime": {
     "end_time": "2021-02-10T13:58:27.672392Z",
     "start_time": "2021-02-10T13:58:27.647163Z"
    }
   },
   "outputs": [],
   "source": [
    "#import pandas_profiling"
   ]
  },
  {
   "cell_type": "code",
   "execution_count": 13,
   "metadata": {
    "ExecuteTime": {
     "end_time": "2021-02-10T13:58:27.688513Z",
     "start_time": "2021-02-10T13:58:27.676816Z"
    }
   },
   "outputs": [],
   "source": [
    "#\n",
    "#data.profile_report()"
   ]
  },
  {
   "cell_type": "code",
   "execution_count": 14,
   "metadata": {
    "ExecuteTime": {
     "end_time": "2021-02-10T13:58:27.735064Z",
     "start_time": "2021-02-10T13:58:27.692127Z"
    }
   },
   "outputs": [
    {
     "name": "stdout",
     "output_type": "stream",
     "text": [
      "The average age is 33.0\n"
     ]
    }
   ],
   "source": [
    "import numpy as np\n",
    "print(f\"The average age is {round(np.mean(data['age']))}\")"
   ]
  },
  {
   "cell_type": "code",
   "execution_count": 15,
   "metadata": {
    "ExecuteTime": {
     "end_time": "2021-02-10T13:58:28.229271Z",
     "start_time": "2021-02-10T13:58:27.737393Z"
    }
   },
   "outputs": [
    {
     "data": {
      "text/plain": [
       "22071"
      ]
     },
     "execution_count": 15,
     "metadata": {},
     "output_type": "execute_result"
    }
   ],
   "source": [
    "len(data['user_id'].unique())"
   ]
  },
  {
   "cell_type": "code",
   "execution_count": 16,
   "metadata": {
    "ExecuteTime": {
     "end_time": "2021-02-10T13:58:28.523572Z",
     "start_time": "2021-02-10T13:58:28.232264Z"
    }
   },
   "outputs": [],
   "source": [
    "import matplotlib.pyplot as plt"
   ]
  },
  {
   "cell_type": "code",
   "execution_count": 17,
   "metadata": {
    "ExecuteTime": {
     "end_time": "2021-02-10T13:58:28.601050Z",
     "start_time": "2021-02-10T13:58:28.528998Z"
    }
   },
   "outputs": [],
   "source": [
    "data['age'].dropna(inplace=True)"
   ]
  },
  {
   "cell_type": "code",
   "execution_count": 18,
   "metadata": {
    "ExecuteTime": {
     "end_time": "2021-02-10T13:58:28.958161Z",
     "start_time": "2021-02-10T13:58:28.604739Z"
    }
   },
   "outputs": [],
   "source": [
    "data['country'].dropna(inplace=True)"
   ]
  },
  {
   "cell_type": "code",
   "execution_count": 19,
   "metadata": {
    "ExecuteTime": {
     "end_time": "2021-02-10T13:58:29.313396Z",
     "start_time": "2021-02-10T13:58:28.961152Z"
    }
   },
   "outputs": [],
   "source": [
    "data['sex'].dropna(inplace=True)"
   ]
  },
  {
   "cell_type": "code",
   "execution_count": 20,
   "metadata": {
    "ExecuteTime": {
     "end_time": "2021-02-10T13:58:29.598026Z",
     "start_time": "2021-02-10T13:58:29.317816Z"
    }
   },
   "outputs": [],
   "source": [
    "tv = pd.DataFrame(data['trackable_value'].unique())"
   ]
  },
  {
   "cell_type": "code",
   "execution_count": 21,
   "metadata": {
    "ExecuteTime": {
     "end_time": "2021-02-10T13:58:29.644680Z",
     "start_time": "2021-02-10T13:58:29.604919Z"
    }
   },
   "outputs": [
    {
     "data": {
      "text/html": [
       "<div>\n",
       "<style scoped>\n",
       "    .dataframe tbody tr th:only-of-type {\n",
       "        vertical-align: middle;\n",
       "    }\n",
       "\n",
       "    .dataframe tbody tr th {\n",
       "        vertical-align: top;\n",
       "    }\n",
       "\n",
       "    .dataframe thead th {\n",
       "        text-align: right;\n",
       "    }\n",
       "</style>\n",
       "<table border=\"1\" class=\"dataframe\">\n",
       "  <thead>\n",
       "    <tr style=\"text-align: right;\">\n",
       "      <th></th>\n",
       "      <th>0</th>\n",
       "    </tr>\n",
       "  </thead>\n",
       "  <tbody>\n",
       "    <tr>\n",
       "      <td>0</td>\n",
       "      <td>0</td>\n",
       "    </tr>\n",
       "    <tr>\n",
       "      <td>1</td>\n",
       "      <td>4</td>\n",
       "    </tr>\n",
       "    <tr>\n",
       "      <td>2</td>\n",
       "      <td>3</td>\n",
       "    </tr>\n",
       "    <tr>\n",
       "      <td>3</td>\n",
       "      <td>2</td>\n",
       "    </tr>\n",
       "    <tr>\n",
       "      <td>4</td>\n",
       "      <td>1</td>\n",
       "    </tr>\n",
       "    <tr>\n",
       "      <td>...</td>\n",
       "      <td>...</td>\n",
       "    </tr>\n",
       "    <tr>\n",
       "      <td>8623</td>\n",
       "      <td>Crossfit</td>\n",
       "    </tr>\n",
       "    <tr>\n",
       "      <td>8624</td>\n",
       "      <td>2 nabumetone</td>\n",
       "    </tr>\n",
       "    <tr>\n",
       "      <td>8625</td>\n",
       "      <td>2 ibumetone</td>\n",
       "    </tr>\n",
       "    <tr>\n",
       "      <td>8626</td>\n",
       "      <td>(2×5mg)×3</td>\n",
       "    </tr>\n",
       "    <tr>\n",
       "      <td>8627</td>\n",
       "      <td>4x/ 1g</td>\n",
       "    </tr>\n",
       "  </tbody>\n",
       "</table>\n",
       "<p>8628 rows × 1 columns</p>\n",
       "</div>"
      ],
      "text/plain": [
       "                 0\n",
       "0                0\n",
       "1                4\n",
       "2                3\n",
       "3                2\n",
       "4                1\n",
       "...            ...\n",
       "8623      Crossfit\n",
       "8624  2 nabumetone\n",
       "8625   2 ibumetone\n",
       "8626     (2×5mg)×3\n",
       "8627        4x/ 1g\n",
       "\n",
       "[8628 rows x 1 columns]"
      ]
     },
     "execution_count": 21,
     "metadata": {},
     "output_type": "execute_result"
    }
   ],
   "source": [
    "tv"
   ]
  },
  {
   "cell_type": "code",
   "execution_count": 22,
   "metadata": {
    "ExecuteTime": {
     "end_time": "2021-02-10T13:58:30.417509Z",
     "start_time": "2021-02-10T13:58:29.646855Z"
    }
   },
   "outputs": [],
   "source": [
    "tv_counts = pd.Series(data['trackable_value'].value_counts())"
   ]
  },
  {
   "cell_type": "code",
   "execution_count": 23,
   "metadata": {
    "ExecuteTime": {
     "end_time": "2021-02-10T13:58:30.448368Z",
     "start_time": "2021-02-10T13:58:30.420396Z"
    }
   },
   "outputs": [
    {
     "data": {
      "text/plain": [
       "0                      577863\n",
       "1                      511496\n",
       "2                      482058\n",
       "3                      322882\n",
       "4                      195655\n",
       "                        ...  \n",
       "2/2/2/2/1                   1\n",
       "almost 20 min               1\n",
       "2500 mg                     1\n",
       "4 x 750mg                   1\n",
       "1-50000unit 1x week         1\n",
       "Name: trackable_value, Length: 8627, dtype: int64"
      ]
     },
     "execution_count": 23,
     "metadata": {},
     "output_type": "execute_result"
    }
   ],
   "source": [
    "tv_counts"
   ]
  },
  {
   "cell_type": "code",
   "execution_count": 24,
   "metadata": {
    "ExecuteTime": {
     "end_time": "2021-02-10T13:58:30.682652Z",
     "start_time": "2021-02-10T13:58:30.455585Z"
    },
    "scrolled": true
   },
   "outputs": [],
   "source": [
    "trackable_type = data['trackable_type'].unique()"
   ]
  },
  {
   "cell_type": "code",
   "execution_count": 25,
   "metadata": {
    "ExecuteTime": {
     "end_time": "2021-02-10T13:58:30.713304Z",
     "start_time": "2021-02-10T13:58:30.690081Z"
    }
   },
   "outputs": [
    {
     "data": {
      "text/plain": [
       "array(['Condition', 'Symptom', 'Weather', 'Treatment', 'Tag', 'Food',\n",
       "       'HBI'], dtype=object)"
      ]
     },
     "execution_count": 25,
     "metadata": {},
     "output_type": "execute_result"
    }
   ],
   "source": [
    "trackable_type"
   ]
  },
  {
   "cell_type": "code",
   "execution_count": 39,
   "metadata": {
    "ExecuteTime": {
     "end_time": "2021-02-10T14:05:30.546287Z",
     "start_time": "2021-02-10T14:05:30.460567Z"
    }
   },
   "outputs": [],
   "source": [
    "dfn = pd.DataFrame(data[['trackable_name', 'trackable_type', 'trackable_value']])"
   ]
  },
  {
   "cell_type": "code",
   "execution_count": 49,
   "metadata": {
    "ExecuteTime": {
     "end_time": "2021-02-10T14:11:42.371559Z",
     "start_time": "2021-02-10T14:11:42.330698Z"
    }
   },
   "outputs": [
    {
     "data": {
      "text/html": [
       "<div>\n",
       "<style scoped>\n",
       "    .dataframe tbody tr th:only-of-type {\n",
       "        vertical-align: middle;\n",
       "    }\n",
       "\n",
       "    .dataframe tbody tr th {\n",
       "        vertical-align: top;\n",
       "    }\n",
       "\n",
       "    .dataframe thead th {\n",
       "        text-align: right;\n",
       "    }\n",
       "</style>\n",
       "<table border=\"1\" class=\"dataframe\">\n",
       "  <thead>\n",
       "    <tr style=\"text-align: right;\">\n",
       "      <th></th>\n",
       "      <th>trackable_name</th>\n",
       "      <th>trackable_type</th>\n",
       "      <th>trackable_value</th>\n",
       "    </tr>\n",
       "  </thead>\n",
       "  <tbody>\n",
       "    <tr>\n",
       "      <td>0</td>\n",
       "      <td>Ulcerative colitis</td>\n",
       "      <td>Condition</td>\n",
       "      <td>0</td>\n",
       "    </tr>\n",
       "    <tr>\n",
       "      <td>1</td>\n",
       "      <td>Ulcerative colitis</td>\n",
       "      <td>Condition</td>\n",
       "      <td>0</td>\n",
       "    </tr>\n",
       "    <tr>\n",
       "      <td>2</td>\n",
       "      <td>pain in left upper arm felt like i was getting...</td>\n",
       "      <td>Condition</td>\n",
       "      <td>4</td>\n",
       "    </tr>\n",
       "    <tr>\n",
       "      <td>3</td>\n",
       "      <td>hip pain when gettin up</td>\n",
       "      <td>Condition</td>\n",
       "      <td>3</td>\n",
       "    </tr>\n",
       "    <tr>\n",
       "      <td>4</td>\n",
       "      <td>pain in hand joints</td>\n",
       "      <td>Condition</td>\n",
       "      <td>4</td>\n",
       "    </tr>\n",
       "  </tbody>\n",
       "</table>\n",
       "</div>"
      ],
      "text/plain": [
       "                                      trackable_name trackable_type  \\\n",
       "0                                 Ulcerative colitis      Condition   \n",
       "1                                 Ulcerative colitis      Condition   \n",
       "2  pain in left upper arm felt like i was getting...      Condition   \n",
       "3                            hip pain when gettin up      Condition   \n",
       "4                                pain in hand joints      Condition   \n",
       "\n",
       "  trackable_value  \n",
       "0               0  \n",
       "1               0  \n",
       "2               4  \n",
       "3               3  \n",
       "4               4  "
      ]
     },
     "execution_count": 49,
     "metadata": {},
     "output_type": "execute_result"
    }
   ],
   "source": [
    "dfn.head()"
   ]
  },
  {
   "cell_type": "code",
   "execution_count": 68,
   "metadata": {
    "ExecuteTime": {
     "end_time": "2021-02-10T14:38:07.698249Z",
     "start_time": "2021-02-10T14:38:06.713466Z"
    }
   },
   "outputs": [
    {
     "data": {
      "text/html": [
       "<div>\n",
       "<style scoped>\n",
       "    .dataframe tbody tr th:only-of-type {\n",
       "        vertical-align: middle;\n",
       "    }\n",
       "\n",
       "    .dataframe tbody tr th {\n",
       "        vertical-align: top;\n",
       "    }\n",
       "\n",
       "    .dataframe thead th {\n",
       "        text-align: right;\n",
       "    }\n",
       "</style>\n",
       "<table border=\"1\" class=\"dataframe\">\n",
       "  <thead>\n",
       "    <tr style=\"text-align: right;\">\n",
       "      <th></th>\n",
       "      <th>trackable_name</th>\n",
       "      <th>trackable_type</th>\n",
       "      <th>trackable_value</th>\n",
       "    </tr>\n",
       "  </thead>\n",
       "  <tbody>\n",
       "    <tr>\n",
       "      <td>0</td>\n",
       "      <td>Ulcerative colitis</td>\n",
       "      <td>Condition</td>\n",
       "      <td>0</td>\n",
       "    </tr>\n",
       "    <tr>\n",
       "      <td>1</td>\n",
       "      <td>Ulcerative colitis</td>\n",
       "      <td>Condition</td>\n",
       "      <td>0</td>\n",
       "    </tr>\n",
       "    <tr>\n",
       "      <td>1347</td>\n",
       "      <td>Ulcerative colitis</td>\n",
       "      <td>Condition</td>\n",
       "      <td>1</td>\n",
       "    </tr>\n",
       "    <tr>\n",
       "      <td>1350</td>\n",
       "      <td>Ulcerative colitis</td>\n",
       "      <td>Condition</td>\n",
       "      <td>1</td>\n",
       "    </tr>\n",
       "    <tr>\n",
       "      <td>1356</td>\n",
       "      <td>Ulcerative colitis</td>\n",
       "      <td>Condition</td>\n",
       "      <td>1</td>\n",
       "    </tr>\n",
       "    <tr>\n",
       "      <td>...</td>\n",
       "      <td>...</td>\n",
       "      <td>...</td>\n",
       "      <td>...</td>\n",
       "    </tr>\n",
       "    <tr>\n",
       "      <td>3469181</td>\n",
       "      <td>Ulcerative colitis</td>\n",
       "      <td>Condition</td>\n",
       "      <td>2</td>\n",
       "    </tr>\n",
       "    <tr>\n",
       "      <td>3469214</td>\n",
       "      <td>Ulcerative colitis</td>\n",
       "      <td>Condition</td>\n",
       "      <td>3</td>\n",
       "    </tr>\n",
       "    <tr>\n",
       "      <td>3469239</td>\n",
       "      <td>Ulcerative colitis</td>\n",
       "      <td>Condition</td>\n",
       "      <td>3</td>\n",
       "    </tr>\n",
       "    <tr>\n",
       "      <td>3474865</td>\n",
       "      <td>Ulcerative colitis</td>\n",
       "      <td>Condition</td>\n",
       "      <td>1</td>\n",
       "    </tr>\n",
       "    <tr>\n",
       "      <td>3486008</td>\n",
       "      <td>Ulcerative colitis</td>\n",
       "      <td>Condition</td>\n",
       "      <td>2</td>\n",
       "    </tr>\n",
       "  </tbody>\n",
       "</table>\n",
       "<p>4063 rows × 3 columns</p>\n",
       "</div>"
      ],
      "text/plain": [
       "             trackable_name trackable_type trackable_value\n",
       "0        Ulcerative colitis      Condition               0\n",
       "1        Ulcerative colitis      Condition               0\n",
       "1347     Ulcerative colitis      Condition               1\n",
       "1350     Ulcerative colitis      Condition               1\n",
       "1356     Ulcerative colitis      Condition               1\n",
       "...                     ...            ...             ...\n",
       "3469181  Ulcerative colitis      Condition               2\n",
       "3469214  Ulcerative colitis      Condition               3\n",
       "3469239  Ulcerative colitis      Condition               3\n",
       "3474865  Ulcerative colitis      Condition               1\n",
       "3486008  Ulcerative colitis      Condition               2\n",
       "\n",
       "[4063 rows x 3 columns]"
      ]
     },
     "execution_count": 68,
     "metadata": {},
     "output_type": "execute_result"
    }
   ],
   "source": [
    "dfn.groupby('trackable_name').get_group('Ulcerative colitis')"
   ]
  },
  {
   "cell_type": "code",
   "execution_count": 69,
   "metadata": {
    "ExecuteTime": {
     "end_time": "2021-02-10T14:40:16.841702Z",
     "start_time": "2021-02-10T14:40:16.806598Z"
    },
    "scrolled": false
   },
   "outputs": [
    {
     "data": {
      "text/html": [
       "<div>\n",
       "<style scoped>\n",
       "    .dataframe tbody tr th:only-of-type {\n",
       "        vertical-align: middle;\n",
       "    }\n",
       "\n",
       "    .dataframe tbody tr th {\n",
       "        vertical-align: top;\n",
       "    }\n",
       "\n",
       "    .dataframe thead th {\n",
       "        text-align: right;\n",
       "    }\n",
       "</style>\n",
       "<table border=\"1\" class=\"dataframe\">\n",
       "  <thead>\n",
       "    <tr style=\"text-align: right;\">\n",
       "      <th></th>\n",
       "      <th>user_id</th>\n",
       "      <th>age</th>\n",
       "      <th>sex</th>\n",
       "      <th>country</th>\n",
       "      <th>checkin_date</th>\n",
       "      <th>trackable_id</th>\n",
       "      <th>trackable_type</th>\n",
       "      <th>trackable_name</th>\n",
       "      <th>trackable_value</th>\n",
       "    </tr>\n",
       "  </thead>\n",
       "  <tbody>\n",
       "    <tr>\n",
       "      <td>0</td>\n",
       "      <td>QEVuQwEABlEzkh7fsBBjEe26RyIVcg==</td>\n",
       "      <td>NaN</td>\n",
       "      <td>NaN</td>\n",
       "      <td>NaN</td>\n",
       "      <td>2015-11-26</td>\n",
       "      <td>1069</td>\n",
       "      <td>Condition</td>\n",
       "      <td>Ulcerative colitis</td>\n",
       "      <td>0</td>\n",
       "    </tr>\n",
       "    <tr>\n",
       "      <td>1</td>\n",
       "      <td>QEVuQwEAWRNGnuTRqXG2996KSkTIEw==</td>\n",
       "      <td>31.0</td>\n",
       "      <td>male</td>\n",
       "      <td>US</td>\n",
       "      <td>2015-11-26</td>\n",
       "      <td>1069</td>\n",
       "      <td>Condition</td>\n",
       "      <td>Ulcerative colitis</td>\n",
       "      <td>0</td>\n",
       "    </tr>\n",
       "    <tr>\n",
       "      <td>2</td>\n",
       "      <td>QEVuQwEA+WkNxtp/qkHvN2YmTBBDqg==</td>\n",
       "      <td>1.0</td>\n",
       "      <td>female</td>\n",
       "      <td>CA</td>\n",
       "      <td>2017-04-28</td>\n",
       "      <td>3168</td>\n",
       "      <td>Condition</td>\n",
       "      <td>pain in left upper arm felt like i was getting...</td>\n",
       "      <td>4</td>\n",
       "    </tr>\n",
       "    <tr>\n",
       "      <td>3</td>\n",
       "      <td>QEVuQwEA+WkNxtp/qkHvN2YmTBBDqg==</td>\n",
       "      <td>1.0</td>\n",
       "      <td>female</td>\n",
       "      <td>CA</td>\n",
       "      <td>2017-04-28</td>\n",
       "      <td>3169</td>\n",
       "      <td>Condition</td>\n",
       "      <td>hip pain when gettin up</td>\n",
       "      <td>3</td>\n",
       "    </tr>\n",
       "    <tr>\n",
       "      <td>4</td>\n",
       "      <td>QEVuQwEA+WkNxtp/qkHvN2YmTBBDqg==</td>\n",
       "      <td>1.0</td>\n",
       "      <td>female</td>\n",
       "      <td>CA</td>\n",
       "      <td>2017-04-28</td>\n",
       "      <td>3170</td>\n",
       "      <td>Condition</td>\n",
       "      <td>pain in hand joints</td>\n",
       "      <td>4</td>\n",
       "    </tr>\n",
       "  </tbody>\n",
       "</table>\n",
       "</div>"
      ],
      "text/plain": [
       "                            user_id   age     sex country checkin_date  \\\n",
       "0  QEVuQwEABlEzkh7fsBBjEe26RyIVcg==   NaN     NaN     NaN   2015-11-26   \n",
       "1  QEVuQwEAWRNGnuTRqXG2996KSkTIEw==  31.0    male      US   2015-11-26   \n",
       "2  QEVuQwEA+WkNxtp/qkHvN2YmTBBDqg==   1.0  female      CA   2017-04-28   \n",
       "3  QEVuQwEA+WkNxtp/qkHvN2YmTBBDqg==   1.0  female      CA   2017-04-28   \n",
       "4  QEVuQwEA+WkNxtp/qkHvN2YmTBBDqg==   1.0  female      CA   2017-04-28   \n",
       "\n",
       "  trackable_id trackable_type  \\\n",
       "0         1069      Condition   \n",
       "1         1069      Condition   \n",
       "2         3168      Condition   \n",
       "3         3169      Condition   \n",
       "4         3170      Condition   \n",
       "\n",
       "                                      trackable_name trackable_value  \n",
       "0                                 Ulcerative colitis               0  \n",
       "1                                 Ulcerative colitis               0  \n",
       "2  pain in left upper arm felt like i was getting...               4  \n",
       "3                            hip pain when gettin up               3  \n",
       "4                                pain in hand joints               4  "
      ]
     },
     "execution_count": 69,
     "metadata": {},
     "output_type": "execute_result"
    }
   ],
   "source": [
    "data.head()"
   ]
  },
  {
   "cell_type": "code",
   "execution_count": 73,
   "metadata": {
    "ExecuteTime": {
     "end_time": "2021-02-10T14:41:54.960383Z",
     "start_time": "2021-02-10T14:41:54.411813Z"
    }
   },
   "outputs": [],
   "source": [
    "conditions = pd.DataFrame(data[data['trackable_type'] == 'Condition'])"
   ]
  },
  {
   "cell_type": "code",
   "execution_count": 74,
   "metadata": {
    "ExecuteTime": {
     "end_time": "2021-02-10T14:41:56.978586Z",
     "start_time": "2021-02-10T14:41:56.955420Z"
    }
   },
   "outputs": [
    {
     "data": {
      "text/html": [
       "<div>\n",
       "<style scoped>\n",
       "    .dataframe tbody tr th:only-of-type {\n",
       "        vertical-align: middle;\n",
       "    }\n",
       "\n",
       "    .dataframe tbody tr th {\n",
       "        vertical-align: top;\n",
       "    }\n",
       "\n",
       "    .dataframe thead th {\n",
       "        text-align: right;\n",
       "    }\n",
       "</style>\n",
       "<table border=\"1\" class=\"dataframe\">\n",
       "  <thead>\n",
       "    <tr style=\"text-align: right;\">\n",
       "      <th></th>\n",
       "      <th>user_id</th>\n",
       "      <th>age</th>\n",
       "      <th>sex</th>\n",
       "      <th>country</th>\n",
       "      <th>checkin_date</th>\n",
       "      <th>trackable_id</th>\n",
       "      <th>trackable_type</th>\n",
       "      <th>trackable_name</th>\n",
       "      <th>trackable_value</th>\n",
       "    </tr>\n",
       "  </thead>\n",
       "  <tbody>\n",
       "    <tr>\n",
       "      <td>0</td>\n",
       "      <td>QEVuQwEABlEzkh7fsBBjEe26RyIVcg==</td>\n",
       "      <td>NaN</td>\n",
       "      <td>NaN</td>\n",
       "      <td>NaN</td>\n",
       "      <td>2015-11-26</td>\n",
       "      <td>1069</td>\n",
       "      <td>Condition</td>\n",
       "      <td>Ulcerative colitis</td>\n",
       "      <td>0</td>\n",
       "    </tr>\n",
       "    <tr>\n",
       "      <td>1</td>\n",
       "      <td>QEVuQwEAWRNGnuTRqXG2996KSkTIEw==</td>\n",
       "      <td>31.0</td>\n",
       "      <td>male</td>\n",
       "      <td>US</td>\n",
       "      <td>2015-11-26</td>\n",
       "      <td>1069</td>\n",
       "      <td>Condition</td>\n",
       "      <td>Ulcerative colitis</td>\n",
       "      <td>0</td>\n",
       "    </tr>\n",
       "    <tr>\n",
       "      <td>2</td>\n",
       "      <td>QEVuQwEA+WkNxtp/qkHvN2YmTBBDqg==</td>\n",
       "      <td>1.0</td>\n",
       "      <td>female</td>\n",
       "      <td>CA</td>\n",
       "      <td>2017-04-28</td>\n",
       "      <td>3168</td>\n",
       "      <td>Condition</td>\n",
       "      <td>pain in left upper arm felt like i was getting...</td>\n",
       "      <td>4</td>\n",
       "    </tr>\n",
       "    <tr>\n",
       "      <td>3</td>\n",
       "      <td>QEVuQwEA+WkNxtp/qkHvN2YmTBBDqg==</td>\n",
       "      <td>1.0</td>\n",
       "      <td>female</td>\n",
       "      <td>CA</td>\n",
       "      <td>2017-04-28</td>\n",
       "      <td>3169</td>\n",
       "      <td>Condition</td>\n",
       "      <td>hip pain when gettin up</td>\n",
       "      <td>3</td>\n",
       "    </tr>\n",
       "    <tr>\n",
       "      <td>4</td>\n",
       "      <td>QEVuQwEA+WkNxtp/qkHvN2YmTBBDqg==</td>\n",
       "      <td>1.0</td>\n",
       "      <td>female</td>\n",
       "      <td>CA</td>\n",
       "      <td>2017-04-28</td>\n",
       "      <td>3170</td>\n",
       "      <td>Condition</td>\n",
       "      <td>pain in hand joints</td>\n",
       "      <td>4</td>\n",
       "    </tr>\n",
       "  </tbody>\n",
       "</table>\n",
       "</div>"
      ],
      "text/plain": [
       "                            user_id   age     sex country checkin_date  \\\n",
       "0  QEVuQwEABlEzkh7fsBBjEe26RyIVcg==   NaN     NaN     NaN   2015-11-26   \n",
       "1  QEVuQwEAWRNGnuTRqXG2996KSkTIEw==  31.0    male      US   2015-11-26   \n",
       "2  QEVuQwEA+WkNxtp/qkHvN2YmTBBDqg==   1.0  female      CA   2017-04-28   \n",
       "3  QEVuQwEA+WkNxtp/qkHvN2YmTBBDqg==   1.0  female      CA   2017-04-28   \n",
       "4  QEVuQwEA+WkNxtp/qkHvN2YmTBBDqg==   1.0  female      CA   2017-04-28   \n",
       "\n",
       "  trackable_id trackable_type  \\\n",
       "0         1069      Condition   \n",
       "1         1069      Condition   \n",
       "2         3168      Condition   \n",
       "3         3169      Condition   \n",
       "4         3170      Condition   \n",
       "\n",
       "                                      trackable_name trackable_value  \n",
       "0                                 Ulcerative colitis               0  \n",
       "1                                 Ulcerative colitis               0  \n",
       "2  pain in left upper arm felt like i was getting...               4  \n",
       "3                            hip pain when gettin up               3  \n",
       "4                                pain in hand joints               4  "
      ]
     },
     "execution_count": 74,
     "metadata": {},
     "output_type": "execute_result"
    }
   ],
   "source": [
    "conditions.head()"
   ]
  },
  {
   "cell_type": "code",
   "execution_count": 78,
   "metadata": {
    "ExecuteTime": {
     "end_time": "2021-02-10T14:43:15.357664Z",
     "start_time": "2021-02-10T14:43:14.913917Z"
    },
    "scrolled": true
   },
   "outputs": [
    {
     "data": {
      "text/plain": [
       "<matplotlib.axes._subplots.AxesSubplot at 0x1b2640934a8>"
      ]
     },
     "execution_count": 78,
     "metadata": {},
     "output_type": "execute_result"
    },
    {
     "data": {
      "image/png": "[encoded data removed]",
      "text/plain": [
       "<Figure size 432x288 with 1 Axes>"
      ]
     },
     "metadata": {
      "needs_background": "light"
     },
     "output_type": "display_data"
    }
   ],
   "source": [
    "conditions['trackable_name'].value_counts().head(10).plot(kind='barh')"
   ]
  },
  {
   "cell_type": "code",
   "execution_count": 27,
   "metadata": {
    "ExecuteTime": {
     "end_time": "2021-02-10T13:58:50.646553Z",
     "start_time": "2021-02-10T13:58:50.523562Z"
    }
   },
   "outputs": [],
   "source": [
    "dfc = pd.DataFrame(data[['trackable_type', 'trackable_value']]).copy()"
   ]
  },
  {
   "cell_type": "code",
   "execution_count": 28,
   "metadata": {
    "ExecuteTime": {
     "end_time": "2021-02-10T13:58:55.651327Z",
     "start_time": "2021-02-10T13:58:55.616394Z"
    },
    "scrolled": false
   },
   "outputs": [
    {
     "data": {
      "text/html": [
       "<div>\n",
       "<style scoped>\n",
       "    .dataframe tbody tr th:only-of-type {\n",
       "        vertical-align: middle;\n",
       "    }\n",
       "\n",
       "    .dataframe tbody tr th {\n",
       "        vertical-align: top;\n",
       "    }\n",
       "\n",
       "    .dataframe thead th {\n",
       "        text-align: right;\n",
       "    }\n",
       "</style>\n",
       "<table border=\"1\" class=\"dataframe\">\n",
       "  <thead>\n",
       "    <tr style=\"text-align: right;\">\n",
       "      <th></th>\n",
       "      <th>trackable_type</th>\n",
       "      <th>trackable_value</th>\n",
       "    </tr>\n",
       "  </thead>\n",
       "  <tbody>\n",
       "    <tr>\n",
       "      <td>0</td>\n",
       "      <td>Condition</td>\n",
       "      <td>0</td>\n",
       "    </tr>\n",
       "    <tr>\n",
       "      <td>1</td>\n",
       "      <td>Condition</td>\n",
       "      <td>0</td>\n",
       "    </tr>\n",
       "    <tr>\n",
       "      <td>2</td>\n",
       "      <td>Condition</td>\n",
       "      <td>4</td>\n",
       "    </tr>\n",
       "    <tr>\n",
       "      <td>3</td>\n",
       "      <td>Condition</td>\n",
       "      <td>3</td>\n",
       "    </tr>\n",
       "    <tr>\n",
       "      <td>4</td>\n",
       "      <td>Condition</td>\n",
       "      <td>4</td>\n",
       "    </tr>\n",
       "  </tbody>\n",
       "</table>\n",
       "</div>"
      ],
      "text/plain": [
       "  trackable_type trackable_value\n",
       "0      Condition               0\n",
       "1      Condition               0\n",
       "2      Condition               4\n",
       "3      Condition               3\n",
       "4      Condition               4"
      ]
     },
     "execution_count": 28,
     "metadata": {},
     "output_type": "execute_result"
    }
   ],
   "source": [
    "dfc.head()"
   ]
  },
  {
   "cell_type": "code",
   "execution_count": 29,
   "metadata": {
    "ExecuteTime": {
     "end_time": "2021-02-10T13:59:16.056730Z",
     "start_time": "2021-02-10T13:59:10.298178Z"
    },
    "scrolled": true
   },
   "outputs": [
    {
     "data": {
      "text/html": [
       "<div>\n",
       "<style scoped>\n",
       "    .dataframe tbody tr th:only-of-type {\n",
       "        vertical-align: middle;\n",
       "    }\n",
       "\n",
       "    .dataframe tbody tr th {\n",
       "        vertical-align: top;\n",
       "    }\n",
       "\n",
       "    .dataframe thead th {\n",
       "        text-align: right;\n",
       "    }\n",
       "</style>\n",
       "<table border=\"1\" class=\"dataframe\">\n",
       "  <thead>\n",
       "    <tr style=\"text-align: right;\">\n",
       "      <th>trackable_type</th>\n",
       "      <th>Condition</th>\n",
       "      <th>Food</th>\n",
       "      <th>HBI</th>\n",
       "      <th>Symptom</th>\n",
       "      <th>Tag</th>\n",
       "      <th>Treatment</th>\n",
       "      <th>Weather</th>\n",
       "    </tr>\n",
       "  </thead>\n",
       "  <tbody>\n",
       "    <tr>\n",
       "      <td>0</td>\n",
       "      <td>0</td>\n",
       "      <td>NaN</td>\n",
       "      <td>NaN</td>\n",
       "      <td>NaN</td>\n",
       "      <td>NaN</td>\n",
       "      <td>NaN</td>\n",
       "      <td>NaN</td>\n",
       "    </tr>\n",
       "    <tr>\n",
       "      <td>1</td>\n",
       "      <td>0</td>\n",
       "      <td>NaN</td>\n",
       "      <td>NaN</td>\n",
       "      <td>NaN</td>\n",
       "      <td>NaN</td>\n",
       "      <td>NaN</td>\n",
       "      <td>NaN</td>\n",
       "    </tr>\n",
       "    <tr>\n",
       "      <td>2</td>\n",
       "      <td>4</td>\n",
       "      <td>NaN</td>\n",
       "      <td>NaN</td>\n",
       "      <td>NaN</td>\n",
       "      <td>NaN</td>\n",
       "      <td>NaN</td>\n",
       "      <td>NaN</td>\n",
       "    </tr>\n",
       "    <tr>\n",
       "      <td>3</td>\n",
       "      <td>3</td>\n",
       "      <td>NaN</td>\n",
       "      <td>NaN</td>\n",
       "      <td>NaN</td>\n",
       "      <td>NaN</td>\n",
       "      <td>NaN</td>\n",
       "      <td>NaN</td>\n",
       "    </tr>\n",
       "    <tr>\n",
       "      <td>4</td>\n",
       "      <td>4</td>\n",
       "      <td>NaN</td>\n",
       "      <td>NaN</td>\n",
       "      <td>NaN</td>\n",
       "      <td>NaN</td>\n",
       "      <td>NaN</td>\n",
       "      <td>NaN</td>\n",
       "    </tr>\n",
       "    <tr>\n",
       "      <td>...</td>\n",
       "      <td>...</td>\n",
       "      <td>...</td>\n",
       "      <td>...</td>\n",
       "      <td>...</td>\n",
       "      <td>...</td>\n",
       "      <td>...</td>\n",
       "      <td>...</td>\n",
       "    </tr>\n",
       "    <tr>\n",
       "      <td>3487628</td>\n",
       "      <td>NaN</td>\n",
       "      <td>NaN</td>\n",
       "      <td>NaN</td>\n",
       "      <td>NaN</td>\n",
       "      <td>NaN</td>\n",
       "      <td>NaN</td>\n",
       "      <td>71.0</td>\n",
       "    </tr>\n",
       "    <tr>\n",
       "      <td>3487629</td>\n",
       "      <td>NaN</td>\n",
       "      <td>NaN</td>\n",
       "      <td>NaN</td>\n",
       "      <td>NaN</td>\n",
       "      <td>NaN</td>\n",
       "      <td>NaN</td>\n",
       "      <td>85.0</td>\n",
       "    </tr>\n",
       "    <tr>\n",
       "      <td>3487630</td>\n",
       "      <td>NaN</td>\n",
       "      <td>NaN</td>\n",
       "      <td>NaN</td>\n",
       "      <td>NaN</td>\n",
       "      <td>NaN</td>\n",
       "      <td>NaN</td>\n",
       "      <td>0.0</td>\n",
       "    </tr>\n",
       "    <tr>\n",
       "      <td>3487631</td>\n",
       "      <td>NaN</td>\n",
       "      <td>NaN</td>\n",
       "      <td>NaN</td>\n",
       "      <td>NaN</td>\n",
       "      <td>NaN</td>\n",
       "      <td>NaN</td>\n",
       "      <td>1014.0</td>\n",
       "    </tr>\n",
       "    <tr>\n",
       "      <td>3487632</td>\n",
       "      <td>NaN</td>\n",
       "      <td>NaN</td>\n",
       "      <td>NaN</td>\n",
       "      <td>NaN</td>\n",
       "      <td>NaN</td>\n",
       "      <td>NaN</td>\n",
       "      <td>67.0</td>\n",
       "    </tr>\n",
       "  </tbody>\n",
       "</table>\n",
       "<p>3487633 rows × 7 columns</p>\n",
       "</div>"
      ],
      "text/plain": [
       "trackable_type Condition Food  HBI Symptom  Tag Treatment Weather\n",
       "0                      0  NaN  NaN     NaN  NaN       NaN     NaN\n",
       "1                      0  NaN  NaN     NaN  NaN       NaN     NaN\n",
       "2                      4  NaN  NaN     NaN  NaN       NaN     NaN\n",
       "3                      3  NaN  NaN     NaN  NaN       NaN     NaN\n",
       "4                      4  NaN  NaN     NaN  NaN       NaN     NaN\n",
       "...                  ...  ...  ...     ...  ...       ...     ...\n",
       "3487628              NaN  NaN  NaN     NaN  NaN       NaN    71.0\n",
       "3487629              NaN  NaN  NaN     NaN  NaN       NaN    85.0\n",
       "3487630              NaN  NaN  NaN     NaN  NaN       NaN     0.0\n",
       "3487631              NaN  NaN  NaN     NaN  NaN       NaN  1014.0\n",
       "3487632              NaN  NaN  NaN     NaN  NaN       NaN    67.0\n",
       "\n",
       "[3487633 rows x 7 columns]"
      ]
     },
     "execution_count": 29,
     "metadata": {},
     "output_type": "execute_result"
    }
   ],
   "source": [
    "dfc.pivot(columns='trackable_type', values='trackable_value')"
   ]
  },
  {
   "cell_type": "code",
   "execution_count": 31,
   "metadata": {
    "ExecuteTime": {
     "end_time": "2021-02-10T14:00:00.286679Z",
     "start_time": "2021-02-10T13:59:59.583581Z"
    },
    "scrolled": true
   },
   "outputs": [
    {
     "data": {
      "text/plain": [
       "Symptom      1571134\n",
       "Weather       627480\n",
       "Condition     505461\n",
       "Treatment     383201\n",
       "Tag           207902\n",
       "Food          192360\n",
       "HBI               95\n",
       "Name: trackable_type, dtype: int64"
      ]
     },
     "execution_count": 31,
     "metadata": {},
     "output_type": "execute_result"
    }
   ],
   "source": [
    "dfc['trackable_type'].value_counts()"
   ]
  },
  {
   "cell_type": "code",
   "execution_count": 35,
   "metadata": {
    "ExecuteTime": {
     "end_time": "2021-02-10T14:01:44.997958Z",
     "start_time": "2021-02-10T14:01:44.643239Z"
    }
   },
   "outputs": [
    {
     "data": {
      "text/html": [
       "<div>\n",
       "<style scoped>\n",
       "    .dataframe tbody tr th:only-of-type {\n",
       "        vertical-align: middle;\n",
       "    }\n",
       "\n",
       "    .dataframe tbody tr th {\n",
       "        vertical-align: top;\n",
       "    }\n",
       "\n",
       "    .dataframe thead th {\n",
       "        text-align: right;\n",
       "    }\n",
       "</style>\n",
       "<table border=\"1\" class=\"dataframe\">\n",
       "  <thead>\n",
       "    <tr style=\"text-align: right;\">\n",
       "      <th></th>\n",
       "      <th>trackable_type</th>\n",
       "      <th>trackable_value</th>\n",
       "    </tr>\n",
       "  </thead>\n",
       "  <tbody>\n",
       "    <tr>\n",
       "      <td>15</td>\n",
       "      <td>Symptom</td>\n",
       "      <td>3</td>\n",
       "    </tr>\n",
       "    <tr>\n",
       "      <td>24</td>\n",
       "      <td>Symptom</td>\n",
       "      <td>1</td>\n",
       "    </tr>\n",
       "    <tr>\n",
       "      <td>31</td>\n",
       "      <td>Symptom</td>\n",
       "      <td>0</td>\n",
       "    </tr>\n",
       "    <tr>\n",
       "      <td>32</td>\n",
       "      <td>Symptom</td>\n",
       "      <td>0</td>\n",
       "    </tr>\n",
       "    <tr>\n",
       "      <td>38</td>\n",
       "      <td>Symptom</td>\n",
       "      <td>0</td>\n",
       "    </tr>\n",
       "  </tbody>\n",
       "</table>\n",
       "</div>"
      ],
      "text/plain": [
       "   trackable_type trackable_value\n",
       "15        Symptom               3\n",
       "24        Symptom               1\n",
       "31        Symptom               0\n",
       "32        Symptom               0\n",
       "38        Symptom               0"
      ]
     },
     "execution_count": 35,
     "metadata": {},
     "output_type": "execute_result"
    }
   ],
   "source": [
    "condition = dfc.groupby('trackable_type').get_group(\"Symptom\")\n",
    "condition.head()"
   ]
  },
  {
   "cell_type": "code",
   "execution_count": 54,
   "metadata": {
    "ExecuteTime": {
     "end_time": "2021-02-10T14:13:41.138798Z",
     "start_time": "2021-02-10T14:13:40.481854Z"
    }
   },
   "outputs": [
    {
     "data": {
      "text/plain": [
       "<matplotlib.axes._subplots.AxesSubplot at 0x1b21d330fd0>"
      ]
     },
     "execution_count": 54,
     "metadata": {},
     "output_type": "execute_result"
    },
    {
     "data": {
      "image/png": "[encoded data removed]",
      "text/plain": [
       "<Figure size 432x288 with 1 Axes>"
      ]
     },
     "metadata": {
      "needs_background": "light"
     },
     "output_type": "display_data"
    }
   ],
   "source": [
    "condition['trackable_value'].value_counts().plot(kind='barh')"
   ]
  },
  {
   "cell_type": "code",
   "execution_count": null,
   "metadata": {
    "ExecuteTime": {
     "end_time": "2021-02-10T13:58:30.805965Z",
     "start_time": "2021-02-10T13:58:18.999Z"
    }
   },
   "outputs": [],
   "source": [
    "symptom = df.groupby('trackable_type').get_group(\"Symptom\")\n",
    "symptom.head()"
   ]
  },
  {
   "cell_type": "code",
   "execution_count": null,
   "metadata": {
    "ExecuteTime": {
     "end_time": "2020-12-15T20:24:39.378875Z",
     "start_time": "2020-12-15T20:24:39.206806Z"
    }
   },
   "outputs": [],
   "source": []
  },
  {
   "cell_type": "code",
   "execution_count": null,
   "metadata": {
    "ExecuteTime": {
     "end_time": "2021-02-10T13:58:30.807959Z",
     "start_time": "2021-02-10T13:58:19.003Z"
    },
    "scrolled": true
   },
   "outputs": [],
   "source": [
    "symptom['trackable_value'].value_counts().plot(kind='barh')"
   ]
  },
  {
   "cell_type": "code",
   "execution_count": null,
   "metadata": {
    "ExecuteTime": {
     "end_time": "2021-02-10T13:58:30.808957Z",
     "start_time": "2021-02-10T13:58:19.005Z"
    },
    "scrolled": true
   },
   "outputs": [],
   "source": [
    "weather = df.groupby('trackable_type').get_group(\"Weather\")\n",
    "weather.head()"
   ]
  },
  {
   "cell_type": "code",
   "execution_count": null,
   "metadata": {
    "ExecuteTime": {
     "end_time": "2021-02-10T13:58:30.810951Z",
     "start_time": "2021-02-10T13:58:19.007Z"
    },
    "scrolled": true
   },
   "outputs": [],
   "source": [
    "import ast\n",
    "def type_of_value(var):\n",
    "    try:\n",
    "       return int(var)\n",
    "    except Exception:\n",
    "       return str"
   ]
  },
  {
   "cell_type": "code",
   "execution_count": null,
   "metadata": {
    "ExecuteTime": {
     "end_time": "2021-02-10T13:58:30.811948Z",
     "start_time": "2021-02-10T13:58:19.009Z"
    }
   },
   "outputs": [],
   "source": [
    "type_of_value(weather['trackable_value'])"
   ]
  },
  {
   "cell_type": "code",
   "execution_count": null,
   "metadata": {
    "ExecuteTime": {
     "end_time": "2021-02-10T13:58:30.814116Z",
     "start_time": "2021-02-10T13:58:19.011Z"
    },
    "scrolled": false
   },
   "outputs": [],
   "source": [
    "for v in weather['trackable_value']:\n",
    "    try:\n",
    "        int(v)\n",
    "    except:\n",
    "        str(v)"
   ]
  },
  {
   "cell_type": "code",
   "execution_count": null,
   "metadata": {
    "ExecuteTime": {
     "end_time": "2020-12-15T21:04:54.793563Z",
     "start_time": "2020-12-15T21:04:54.772987Z"
    }
   },
   "outputs": [],
   "source": []
  },
  {
   "cell_type": "code",
   "execution_count": null,
   "metadata": {
    "ExecuteTime": {
     "end_time": "2021-02-10T13:58:30.815955Z",
     "start_time": "2021-02-10T13:58:19.014Z"
    }
   },
   "outputs": [],
   "source": [
    "treatment = df.groupby('trackable_type').get_group(\"Treatment\")\n",
    "treatment.head()"
   ]
  },
  {
   "cell_type": "code",
   "execution_count": null,
   "metadata": {
    "ExecuteTime": {
     "end_time": "2021-02-10T13:58:30.817949Z",
     "start_time": "2021-02-10T13:58:19.015Z"
    }
   },
   "outputs": [],
   "source": [
    "len(treatment['trackable_value'].unique())"
   ]
  },
  {
   "cell_type": "code",
   "execution_count": null,
   "metadata": {
    "ExecuteTime": {
     "end_time": "2021-02-10T13:58:30.818945Z",
     "start_time": "2021-02-10T13:58:19.017Z"
    }
   },
   "outputs": [],
   "source": [
    "treatments = list(treatment['trackable_value'].unique())"
   ]
  },
  {
   "cell_type": "code",
   "execution_count": null,
   "metadata": {
    "ExecuteTime": {
     "end_time": "2021-02-10T13:58:30.820941Z",
     "start_time": "2021-02-10T13:58:19.019Z"
    }
   },
   "outputs": [],
   "source": [
    "treatments"
   ]
  },
  {
   "cell_type": "code",
   "execution_count": null,
   "metadata": {
    "ExecuteTime": {
     "end_time": "2021-02-10T13:58:30.821939Z",
     "start_time": "2021-02-10T13:58:19.021Z"
    }
   },
   "outputs": [],
   "source": [
    "tag = df.groupby('trackable_type').get_group(\"Tag\")\n",
    "tag.head()"
   ]
  },
  {
   "cell_type": "code",
   "execution_count": null,
   "metadata": {
    "ExecuteTime": {
     "end_time": "2021-02-10T13:58:30.823934Z",
     "start_time": "2021-02-10T13:58:19.023Z"
    }
   },
   "outputs": [],
   "source": [
    "values = list(treatment['trackable_value'].unique())"
   ]
  },
  {
   "cell_type": "code",
   "execution_count": null,
   "metadata": {
    "ExecuteTime": {
     "end_time": "2021-02-10T13:58:30.825129Z",
     "start_time": "2021-02-10T13:58:19.025Z"
    }
   },
   "outputs": [],
   "source": [
    "values"
   ]
  },
  {
   "cell_type": "code",
   "execution_count": null,
   "metadata": {},
   "outputs": [],
   "source": []
  }
 ],
 "metadata": {
  "kernelspec": {
   "display_name": "Python [conda env:learn-env] *",
   "language": "python",
   "name": "conda-env-learn-env-py"
  },
  "language_info": {
   "codemirror_mode": {
    "name": "ipython",
    "version": 3
   },
   "file_extension": ".py",
   "mimetype": "text/x-python",
   "name": "python",
   "nbconvert_exporter": "python",
   "pygments_lexer": "ipython3",
   "version": "3.6.9"
  },
  "latex_envs": {
   "LaTeX_envs_menu_present": true,
   "autoclose": false,
   "autocomplete": true,
   "bibliofile": "biblio.bib",
   "cite_by": "apalike",
   "current_citInitial": 1,
   "eqLabelWithNumbers": true,
   "eqNumInitial": 1,
   "hotkeys": {
    "equation": "Ctrl-E",
    "itemize": "Ctrl-I"
   },
   "labels_anchors": false,
   "latex_user_defs": false,
   "report_style_numbering": false,
   "user_envs_cfg": false
  },
  "toc": {
   "base_numbering": 1,
   "nav_menu": {},
   "number_sections": true,
   "sideBar": true,
   "skip_h1_title": false,
   "title_cell": "Table of Contents",
   "title_sidebar": "Contents",
   "toc_cell": false,
   "toc_position": {},
   "toc_section_display": true,
   "toc_window_display": false
  },
  "varInspector": {
   "cols": {
    "lenName": 16,
    "lenType": 16,
    "lenVar": 40
   },
   "kernels_config": {
    "python": {
     "delete_cmd_postfix": "",
     "delete_cmd_prefix": "del ",
     "library": "var_list.py",
     "varRefreshCmd": "print(var_dic_list())"
    },
    "r": {
     "delete_cmd_postfix": ") ",
     "delete_cmd_prefix": "rm(",
     "library": "var_list.r",
     "varRefreshCmd": "cat(var_dic_list()) "
    }
   },
   "types_to_exclude": [
    "module",
    "function",
    "builtin_function_or_method",
    "instance",
    "_Feature"
   ],
   "window_display": false
  }
 },
 "nbformat": 4,
 "nbformat_minor": 2
}
