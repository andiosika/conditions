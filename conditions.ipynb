{
 "cells": [
  {
   "cell_type": "code",
   "execution_count": 1,
   "metadata": {
    "ExecuteTime": {
     "end_time": "2021-02-10T22:00:45.990355Z",
     "start_time": "2021-02-10T22:00:45.204199Z"
    }
   },
   "outputs": [],
   "source": [
    "import pandas as pd\n"
   ]
  },
  {
   "cell_type": "code",
   "execution_count": 2,
   "metadata": {
    "ExecuteTime": {
     "end_time": "2021-02-10T22:00:49.818988Z",
     "start_time": "2021-02-10T22:00:45.992336Z"
    }
   },
   "outputs": [
    {
     "name": "stderr",
     "output_type": "stream",
     "text": [
      "C:\\Users\\aosika\\AppData\\Local\\Continuum\\anaconda3\\envs\\learn-env\\lib\\site-packages\\IPython\\core\\interactiveshell.py:3058: DtypeWarning: Columns (5) have mixed types. Specify dtype option on import or set low_memory=False.\n",
      "  interactivity=interactivity, compiler=compiler, result=result)\n"
     ]
    }
   ],
   "source": [
    "data = pd.read_csv('fd-export.csv')"
   ]
  },
  {
   "cell_type": "code",
   "execution_count": 3,
   "metadata": {
    "ExecuteTime": {
     "end_time": "2021-02-10T22:00:49.881739Z",
     "start_time": "2021-02-10T22:00:49.824891Z"
    }
   },
   "outputs": [
    {
     "data": {
      "text/html": [
       "<div>\n",
       "<style scoped>\n",
       "    .dataframe tbody tr th:only-of-type {\n",
       "        vertical-align: middle;\n",
       "    }\n",
       "\n",
       "    .dataframe tbody tr th {\n",
       "        vertical-align: top;\n",
       "    }\n",
       "\n",
       "    .dataframe thead th {\n",
       "        text-align: right;\n",
       "    }\n",
       "</style>\n",
       "<table border=\"1\" class=\"dataframe\">\n",
       "  <thead>\n",
       "    <tr style=\"text-align: right;\">\n",
       "      <th></th>\n",
       "      <th>user_id</th>\n",
       "      <th>age</th>\n",
       "      <th>sex</th>\n",
       "      <th>country</th>\n",
       "      <th>checkin_date</th>\n",
       "      <th>trackable_id</th>\n",
       "      <th>trackable_type</th>\n",
       "      <th>trackable_name</th>\n",
       "      <th>trackable_value</th>\n",
       "    </tr>\n",
       "  </thead>\n",
       "  <tbody>\n",
       "    <tr>\n",
       "      <td>0</td>\n",
       "      <td>QEVuQwEABlEzkh7fsBBjEe26RyIVcg==</td>\n",
       "      <td>NaN</td>\n",
       "      <td>NaN</td>\n",
       "      <td>NaN</td>\n",
       "      <td>2015-11-26</td>\n",
       "      <td>1069</td>\n",
       "      <td>Condition</td>\n",
       "      <td>Ulcerative colitis</td>\n",
       "      <td>0</td>\n",
       "    </tr>\n",
       "    <tr>\n",
       "      <td>1</td>\n",
       "      <td>QEVuQwEAWRNGnuTRqXG2996KSkTIEw==</td>\n",
       "      <td>31.0</td>\n",
       "      <td>male</td>\n",
       "      <td>US</td>\n",
       "      <td>2015-11-26</td>\n",
       "      <td>1069</td>\n",
       "      <td>Condition</td>\n",
       "      <td>Ulcerative colitis</td>\n",
       "      <td>0</td>\n",
       "    </tr>\n",
       "    <tr>\n",
       "      <td>2</td>\n",
       "      <td>QEVuQwEA+WkNxtp/qkHvN2YmTBBDqg==</td>\n",
       "      <td>1.0</td>\n",
       "      <td>female</td>\n",
       "      <td>CA</td>\n",
       "      <td>2017-04-28</td>\n",
       "      <td>3168</td>\n",
       "      <td>Condition</td>\n",
       "      <td>pain in left upper arm felt like i was getting...</td>\n",
       "      <td>4</td>\n",
       "    </tr>\n",
       "    <tr>\n",
       "      <td>3</td>\n",
       "      <td>QEVuQwEA+WkNxtp/qkHvN2YmTBBDqg==</td>\n",
       "      <td>1.0</td>\n",
       "      <td>female</td>\n",
       "      <td>CA</td>\n",
       "      <td>2017-04-28</td>\n",
       "      <td>3169</td>\n",
       "      <td>Condition</td>\n",
       "      <td>hip pain when gettin up</td>\n",
       "      <td>3</td>\n",
       "    </tr>\n",
       "    <tr>\n",
       "      <td>4</td>\n",
       "      <td>QEVuQwEA+WkNxtp/qkHvN2YmTBBDqg==</td>\n",
       "      <td>1.0</td>\n",
       "      <td>female</td>\n",
       "      <td>CA</td>\n",
       "      <td>2017-04-28</td>\n",
       "      <td>3170</td>\n",
       "      <td>Condition</td>\n",
       "      <td>pain in hand joints</td>\n",
       "      <td>4</td>\n",
       "    </tr>\n",
       "  </tbody>\n",
       "</table>\n",
       "</div>"
      ],
      "text/plain": [
       "                            user_id   age     sex country checkin_date  \\\n",
       "0  QEVuQwEABlEzkh7fsBBjEe26RyIVcg==   NaN     NaN     NaN   2015-11-26   \n",
       "1  QEVuQwEAWRNGnuTRqXG2996KSkTIEw==  31.0    male      US   2015-11-26   \n",
       "2  QEVuQwEA+WkNxtp/qkHvN2YmTBBDqg==   1.0  female      CA   2017-04-28   \n",
       "3  QEVuQwEA+WkNxtp/qkHvN2YmTBBDqg==   1.0  female      CA   2017-04-28   \n",
       "4  QEVuQwEA+WkNxtp/qkHvN2YmTBBDqg==   1.0  female      CA   2017-04-28   \n",
       "\n",
       "  trackable_id trackable_type  \\\n",
       "0         1069      Condition   \n",
       "1         1069      Condition   \n",
       "2         3168      Condition   \n",
       "3         3169      Condition   \n",
       "4         3170      Condition   \n",
       "\n",
       "                                      trackable_name trackable_value  \n",
       "0                                 Ulcerative colitis               0  \n",
       "1                                 Ulcerative colitis               0  \n",
       "2  pain in left upper arm felt like i was getting...               4  \n",
       "3                            hip pain when gettin up               3  \n",
       "4                                pain in hand joints               4  "
      ]
     },
     "execution_count": 3,
     "metadata": {},
     "output_type": "execute_result"
    }
   ],
   "source": [
    "#made sure the data loaded\n",
    "data.head()"
   ]
  },
  {
   "cell_type": "code",
   "execution_count": 4,
   "metadata": {
    "ExecuteTime": {
     "end_time": "2021-02-10T22:00:49.897698Z",
     "start_time": "2021-02-10T22:00:49.885729Z"
    }
   },
   "outputs": [
    {
     "name": "stdout",
     "output_type": "stream",
     "text": [
      "<class 'pandas.core.frame.DataFrame'>\n",
      "RangeIndex: 3487633 entries, 0 to 3487632\n",
      "Data columns (total 9 columns):\n",
      "user_id            object\n",
      "age                float64\n",
      "sex                object\n",
      "country            object\n",
      "checkin_date       object\n",
      "trackable_id       object\n",
      "trackable_type     object\n",
      "trackable_name     object\n",
      "trackable_value    object\n",
      "dtypes: float64(1), object(8)\n",
      "memory usage: 239.5+ MB\n"
     ]
    }
   ],
   "source": [
    "data.info()"
   ]
  },
  {
   "cell_type": "code",
   "execution_count": null,
   "metadata": {
    "ExecuteTime": {
     "end_time": "2021-02-10T13:54:10.566271Z",
     "start_time": "2021-02-10T13:54:10.525700Z"
    }
   },
   "outputs": [],
   "source": [
    "\n"
   ]
  },
  {
   "cell_type": "code",
   "execution_count": 5,
   "metadata": {
    "ExecuteTime": {
     "end_time": "2021-02-10T22:00:50.243435Z",
     "start_time": "2021-02-10T22:00:49.900688Z"
    }
   },
   "outputs": [
    {
     "name": "stdout",
     "output_type": "stream",
     "text": [
      "There are 62682 unique conditions\n"
     ]
    }
   ],
   "source": [
    "uni = len(data['trackable_name'].unique())\n",
    "print(f\"There are {uni} unique conditions\")\n"
   ]
  },
  {
   "cell_type": "code",
   "execution_count": 6,
   "metadata": {
    "ExecuteTime": {
     "end_time": "2021-02-10T22:00:50.463843Z",
     "start_time": "2021-02-10T22:00:50.249417Z"
    }
   },
   "outputs": [
    {
     "name": "stdout",
     "output_type": "stream",
     "text": [
      "There are 8628 unique trackable values\n"
     ]
    }
   ],
   "source": [
    "tvu = len(data['trackable_value'].unique())\n",
    "print(f\"There are {tvu} unique trackable values\")"
   ]
  },
  {
   "cell_type": "code",
   "execution_count": 7,
   "metadata": {
    "ExecuteTime": {
     "end_time": "2021-02-10T22:00:50.495759Z",
     "start_time": "2021-02-10T22:00:50.466834Z"
    }
   },
   "outputs": [],
   "source": [
    "#import pandas_profiling"
   ]
  },
  {
   "cell_type": "code",
   "execution_count": 8,
   "metadata": {
    "ExecuteTime": {
     "end_time": "2021-02-10T22:00:50.527673Z",
     "start_time": "2021-02-10T22:00:50.503737Z"
    }
   },
   "outputs": [],
   "source": [
    "#\n",
    "#data.profile_report()"
   ]
  },
  {
   "cell_type": "code",
   "execution_count": 9,
   "metadata": {
    "ExecuteTime": {
     "end_time": "2021-02-10T22:00:50.574554Z",
     "start_time": "2021-02-10T22:00:50.533664Z"
    }
   },
   "outputs": [
    {
     "name": "stdout",
     "output_type": "stream",
     "text": [
      "The average age is 33.0\n"
     ]
    }
   ],
   "source": [
    "import numpy as np\n",
    "print(f\"The average age is {round(np.mean(data['age']))}\")"
   ]
  },
  {
   "cell_type": "code",
   "execution_count": 10,
   "metadata": {
    "ExecuteTime": {
     "end_time": "2021-02-10T22:00:50.935689Z",
     "start_time": "2021-02-10T22:00:50.579535Z"
    }
   },
   "outputs": [
    {
     "data": {
      "text/plain": [
       "22071"
      ]
     },
     "execution_count": 10,
     "metadata": {},
     "output_type": "execute_result"
    }
   ],
   "source": [
    "len(data['user_id'].unique())"
   ]
  },
  {
   "cell_type": "code",
   "execution_count": 11,
   "metadata": {
    "ExecuteTime": {
     "end_time": "2021-02-10T22:00:51.219764Z",
     "start_time": "2021-02-10T22:00:50.937576Z"
    }
   },
   "outputs": [],
   "source": [
    "import matplotlib.pyplot as plt"
   ]
  },
  {
   "cell_type": "code",
   "execution_count": 12,
   "metadata": {
    "ExecuteTime": {
     "end_time": "2021-02-10T22:00:51.267305Z",
     "start_time": "2021-02-10T22:00:51.221752Z"
    }
   },
   "outputs": [],
   "source": [
    "data['age'].dropna(inplace=True)"
   ]
  },
  {
   "cell_type": "code",
   "execution_count": 13,
   "metadata": {
    "ExecuteTime": {
     "end_time": "2021-02-10T22:00:51.456803Z",
     "start_time": "2021-02-10T22:00:51.274291Z"
    }
   },
   "outputs": [],
   "source": [
    "data['country'].dropna(inplace=True)"
   ]
  },
  {
   "cell_type": "code",
   "execution_count": 14,
   "metadata": {
    "ExecuteTime": {
     "end_time": "2021-02-10T22:00:51.661257Z",
     "start_time": "2021-02-10T22:00:51.459795Z"
    }
   },
   "outputs": [],
   "source": [
    "data['sex'].dropna(inplace=True)"
   ]
  },
  {
   "cell_type": "code",
   "execution_count": 15,
   "metadata": {
    "ExecuteTime": {
     "end_time": "2021-02-10T22:00:51.883099Z",
     "start_time": "2021-02-10T22:00:51.663249Z"
    }
   },
   "outputs": [],
   "source": [
    "tv = pd.DataFrame(data['trackable_value'].unique())"
   ]
  },
  {
   "cell_type": "code",
   "execution_count": 16,
   "metadata": {
    "ExecuteTime": {
     "end_time": "2021-02-10T22:00:51.914735Z",
     "start_time": "2021-02-10T22:00:51.884322Z"
    }
   },
   "outputs": [
    {
     "data": {
      "text/html": [
       "<div>\n",
       "<style scoped>\n",
       "    .dataframe tbody tr th:only-of-type {\n",
       "        vertical-align: middle;\n",
       "    }\n",
       "\n",
       "    .dataframe tbody tr th {\n",
       "        vertical-align: top;\n",
       "    }\n",
       "\n",
       "    .dataframe thead th {\n",
       "        text-align: right;\n",
       "    }\n",
       "</style>\n",
       "<table border=\"1\" class=\"dataframe\">\n",
       "  <thead>\n",
       "    <tr style=\"text-align: right;\">\n",
       "      <th></th>\n",
       "      <th>0</th>\n",
       "    </tr>\n",
       "  </thead>\n",
       "  <tbody>\n",
       "    <tr>\n",
       "      <td>0</td>\n",
       "      <td>0</td>\n",
       "    </tr>\n",
       "    <tr>\n",
       "      <td>1</td>\n",
       "      <td>4</td>\n",
       "    </tr>\n",
       "    <tr>\n",
       "      <td>2</td>\n",
       "      <td>3</td>\n",
       "    </tr>\n",
       "    <tr>\n",
       "      <td>3</td>\n",
       "      <td>2</td>\n",
       "    </tr>\n",
       "    <tr>\n",
       "      <td>4</td>\n",
       "      <td>1</td>\n",
       "    </tr>\n",
       "    <tr>\n",
       "      <td>...</td>\n",
       "      <td>...</td>\n",
       "    </tr>\n",
       "    <tr>\n",
       "      <td>8623</td>\n",
       "      <td>Crossfit</td>\n",
       "    </tr>\n",
       "    <tr>\n",
       "      <td>8624</td>\n",
       "      <td>2 nabumetone</td>\n",
       "    </tr>\n",
       "    <tr>\n",
       "      <td>8625</td>\n",
       "      <td>2 ibumetone</td>\n",
       "    </tr>\n",
       "    <tr>\n",
       "      <td>8626</td>\n",
       "      <td>(2×5mg)×3</td>\n",
       "    </tr>\n",
       "    <tr>\n",
       "      <td>8627</td>\n",
       "      <td>4x/ 1g</td>\n",
       "    </tr>\n",
       "  </tbody>\n",
       "</table>\n",
       "<p>8628 rows × 1 columns</p>\n",
       "</div>"
      ],
      "text/plain": [
       "                 0\n",
       "0                0\n",
       "1                4\n",
       "2                3\n",
       "3                2\n",
       "4                1\n",
       "...            ...\n",
       "8623      Crossfit\n",
       "8624  2 nabumetone\n",
       "8625   2 ibumetone\n",
       "8626     (2×5mg)×3\n",
       "8627        4x/ 1g\n",
       "\n",
       "[8628 rows x 1 columns]"
      ]
     },
     "execution_count": 16,
     "metadata": {},
     "output_type": "execute_result"
    }
   ],
   "source": [
    "tv"
   ]
  },
  {
   "cell_type": "code",
   "execution_count": 17,
   "metadata": {
    "ExecuteTime": {
     "end_time": "2021-02-10T22:00:52.324807Z",
     "start_time": "2021-02-10T22:00:51.917727Z"
    }
   },
   "outputs": [],
   "source": [
    "tv_counts = pd.Series(data['trackable_value'].value_counts())"
   ]
  },
  {
   "cell_type": "code",
   "execution_count": 18,
   "metadata": {
    "ExecuteTime": {
     "end_time": "2021-02-10T22:00:52.339734Z",
     "start_time": "2021-02-10T22:00:52.326768Z"
    }
   },
   "outputs": [
    {
     "data": {
      "text/plain": [
       "0            577863\n",
       "1            511496\n",
       "2            482058\n",
       "3            322882\n",
       "4            195655\n",
       "              ...  \n",
       "1 x's 5mg         1\n",
       "2x 2g             1\n",
       "0.1474            1\n",
       "0.0991            1\n",
       "0.5376            1\n",
       "Name: trackable_value, Length: 8627, dtype: int64"
      ]
     },
     "execution_count": 18,
     "metadata": {},
     "output_type": "execute_result"
    }
   ],
   "source": [
    "tv_counts"
   ]
  },
  {
   "cell_type": "code",
   "execution_count": 19,
   "metadata": {
    "ExecuteTime": {
     "end_time": "2021-02-10T22:00:52.526278Z",
     "start_time": "2021-02-10T22:00:52.342726Z"
    },
    "scrolled": true
   },
   "outputs": [],
   "source": [
    "trackable_type = data['trackable_type'].unique()"
   ]
  },
  {
   "cell_type": "code",
   "execution_count": 20,
   "metadata": {
    "ExecuteTime": {
     "end_time": "2021-02-10T22:00:52.542235Z",
     "start_time": "2021-02-10T22:00:52.531264Z"
    }
   },
   "outputs": [
    {
     "data": {
      "text/plain": [
       "array(['Condition', 'Symptom', 'Weather', 'Treatment', 'Tag', 'Food',\n",
       "       'HBI'], dtype=object)"
      ]
     },
     "execution_count": 20,
     "metadata": {},
     "output_type": "execute_result"
    }
   ],
   "source": [
    "trackable_type"
   ]
  },
  {
   "cell_type": "code",
   "execution_count": 21,
   "metadata": {
    "ExecuteTime": {
     "end_time": "2021-02-10T22:00:52.635982Z",
     "start_time": "2021-02-10T22:00:52.546225Z"
    }
   },
   "outputs": [],
   "source": [
    "dfn = pd.DataFrame(data[['trackable_name', 'trackable_type', 'trackable_value']])"
   ]
  },
  {
   "cell_type": "code",
   "execution_count": 22,
   "metadata": {
    "ExecuteTime": {
     "end_time": "2021-02-10T22:00:52.667899Z",
     "start_time": "2021-02-10T22:00:52.638975Z"
    }
   },
   "outputs": [
    {
     "data": {
      "text/html": [
       "<div>\n",
       "<style scoped>\n",
       "    .dataframe tbody tr th:only-of-type {\n",
       "        vertical-align: middle;\n",
       "    }\n",
       "\n",
       "    .dataframe tbody tr th {\n",
       "        vertical-align: top;\n",
       "    }\n",
       "\n",
       "    .dataframe thead th {\n",
       "        text-align: right;\n",
       "    }\n",
       "</style>\n",
       "<table border=\"1\" class=\"dataframe\">\n",
       "  <thead>\n",
       "    <tr style=\"text-align: right;\">\n",
       "      <th></th>\n",
       "      <th>trackable_name</th>\n",
       "      <th>trackable_type</th>\n",
       "      <th>trackable_value</th>\n",
       "    </tr>\n",
       "  </thead>\n",
       "  <tbody>\n",
       "    <tr>\n",
       "      <td>0</td>\n",
       "      <td>Ulcerative colitis</td>\n",
       "      <td>Condition</td>\n",
       "      <td>0</td>\n",
       "    </tr>\n",
       "    <tr>\n",
       "      <td>1</td>\n",
       "      <td>Ulcerative colitis</td>\n",
       "      <td>Condition</td>\n",
       "      <td>0</td>\n",
       "    </tr>\n",
       "    <tr>\n",
       "      <td>2</td>\n",
       "      <td>pain in left upper arm felt like i was getting...</td>\n",
       "      <td>Condition</td>\n",
       "      <td>4</td>\n",
       "    </tr>\n",
       "    <tr>\n",
       "      <td>3</td>\n",
       "      <td>hip pain when gettin up</td>\n",
       "      <td>Condition</td>\n",
       "      <td>3</td>\n",
       "    </tr>\n",
       "    <tr>\n",
       "      <td>4</td>\n",
       "      <td>pain in hand joints</td>\n",
       "      <td>Condition</td>\n",
       "      <td>4</td>\n",
       "    </tr>\n",
       "  </tbody>\n",
       "</table>\n",
       "</div>"
      ],
      "text/plain": [
       "                                      trackable_name trackable_type  \\\n",
       "0                                 Ulcerative colitis      Condition   \n",
       "1                                 Ulcerative colitis      Condition   \n",
       "2  pain in left upper arm felt like i was getting...      Condition   \n",
       "3                            hip pain when gettin up      Condition   \n",
       "4                                pain in hand joints      Condition   \n",
       "\n",
       "  trackable_value  \n",
       "0               0  \n",
       "1               0  \n",
       "2               4  \n",
       "3               3  \n",
       "4               4  "
      ]
     },
     "execution_count": 22,
     "metadata": {},
     "output_type": "execute_result"
    }
   ],
   "source": [
    "dfn.head()"
   ]
  },
  {
   "cell_type": "code",
   "execution_count": 23,
   "metadata": {
    "ExecuteTime": {
     "end_time": "2021-02-10T22:00:53.585561Z",
     "start_time": "2021-02-10T22:00:52.678875Z"
    }
   },
   "outputs": [
    {
     "data": {
      "text/html": [
       "<div>\n",
       "<style scoped>\n",
       "    .dataframe tbody tr th:only-of-type {\n",
       "        vertical-align: middle;\n",
       "    }\n",
       "\n",
       "    .dataframe tbody tr th {\n",
       "        vertical-align: top;\n",
       "    }\n",
       "\n",
       "    .dataframe thead th {\n",
       "        text-align: right;\n",
       "    }\n",
       "</style>\n",
       "<table border=\"1\" class=\"dataframe\">\n",
       "  <thead>\n",
       "    <tr style=\"text-align: right;\">\n",
       "      <th></th>\n",
       "      <th>trackable_name</th>\n",
       "      <th>trackable_type</th>\n",
       "      <th>trackable_value</th>\n",
       "    </tr>\n",
       "  </thead>\n",
       "  <tbody>\n",
       "    <tr>\n",
       "      <td>0</td>\n",
       "      <td>Ulcerative colitis</td>\n",
       "      <td>Condition</td>\n",
       "      <td>0</td>\n",
       "    </tr>\n",
       "    <tr>\n",
       "      <td>1</td>\n",
       "      <td>Ulcerative colitis</td>\n",
       "      <td>Condition</td>\n",
       "      <td>0</td>\n",
       "    </tr>\n",
       "    <tr>\n",
       "      <td>1347</td>\n",
       "      <td>Ulcerative colitis</td>\n",
       "      <td>Condition</td>\n",
       "      <td>1</td>\n",
       "    </tr>\n",
       "    <tr>\n",
       "      <td>1350</td>\n",
       "      <td>Ulcerative colitis</td>\n",
       "      <td>Condition</td>\n",
       "      <td>1</td>\n",
       "    </tr>\n",
       "    <tr>\n",
       "      <td>1356</td>\n",
       "      <td>Ulcerative colitis</td>\n",
       "      <td>Condition</td>\n",
       "      <td>1</td>\n",
       "    </tr>\n",
       "    <tr>\n",
       "      <td>...</td>\n",
       "      <td>...</td>\n",
       "      <td>...</td>\n",
       "      <td>...</td>\n",
       "    </tr>\n",
       "    <tr>\n",
       "      <td>3469181</td>\n",
       "      <td>Ulcerative colitis</td>\n",
       "      <td>Condition</td>\n",
       "      <td>2</td>\n",
       "    </tr>\n",
       "    <tr>\n",
       "      <td>3469214</td>\n",
       "      <td>Ulcerative colitis</td>\n",
       "      <td>Condition</td>\n",
       "      <td>3</td>\n",
       "    </tr>\n",
       "    <tr>\n",
       "      <td>3469239</td>\n",
       "      <td>Ulcerative colitis</td>\n",
       "      <td>Condition</td>\n",
       "      <td>3</td>\n",
       "    </tr>\n",
       "    <tr>\n",
       "      <td>3474865</td>\n",
       "      <td>Ulcerative colitis</td>\n",
       "      <td>Condition</td>\n",
       "      <td>1</td>\n",
       "    </tr>\n",
       "    <tr>\n",
       "      <td>3486008</td>\n",
       "      <td>Ulcerative colitis</td>\n",
       "      <td>Condition</td>\n",
       "      <td>2</td>\n",
       "    </tr>\n",
       "  </tbody>\n",
       "</table>\n",
       "<p>4063 rows × 3 columns</p>\n",
       "</div>"
      ],
      "text/plain": [
       "             trackable_name trackable_type trackable_value\n",
       "0        Ulcerative colitis      Condition               0\n",
       "1        Ulcerative colitis      Condition               0\n",
       "1347     Ulcerative colitis      Condition               1\n",
       "1350     Ulcerative colitis      Condition               1\n",
       "1356     Ulcerative colitis      Condition               1\n",
       "...                     ...            ...             ...\n",
       "3469181  Ulcerative colitis      Condition               2\n",
       "3469214  Ulcerative colitis      Condition               3\n",
       "3469239  Ulcerative colitis      Condition               3\n",
       "3474865  Ulcerative colitis      Condition               1\n",
       "3486008  Ulcerative colitis      Condition               2\n",
       "\n",
       "[4063 rows x 3 columns]"
      ]
     },
     "execution_count": 23,
     "metadata": {},
     "output_type": "execute_result"
    }
   ],
   "source": [
    "dfn.groupby('trackable_name').get_group('Ulcerative colitis')"
   ]
  },
  {
   "cell_type": "code",
   "execution_count": 24,
   "metadata": {
    "ExecuteTime": {
     "end_time": "2021-02-10T22:00:53.617477Z",
     "start_time": "2021-02-10T22:00:53.589550Z"
    },
    "scrolled": false
   },
   "outputs": [
    {
     "data": {
      "text/html": [
       "<div>\n",
       "<style scoped>\n",
       "    .dataframe tbody tr th:only-of-type {\n",
       "        vertical-align: middle;\n",
       "    }\n",
       "\n",
       "    .dataframe tbody tr th {\n",
       "        vertical-align: top;\n",
       "    }\n",
       "\n",
       "    .dataframe thead th {\n",
       "        text-align: right;\n",
       "    }\n",
       "</style>\n",
       "<table border=\"1\" class=\"dataframe\">\n",
       "  <thead>\n",
       "    <tr style=\"text-align: right;\">\n",
       "      <th></th>\n",
       "      <th>user_id</th>\n",
       "      <th>age</th>\n",
       "      <th>sex</th>\n",
       "      <th>country</th>\n",
       "      <th>checkin_date</th>\n",
       "      <th>trackable_id</th>\n",
       "      <th>trackable_type</th>\n",
       "      <th>trackable_name</th>\n",
       "      <th>trackable_value</th>\n",
       "    </tr>\n",
       "  </thead>\n",
       "  <tbody>\n",
       "    <tr>\n",
       "      <td>0</td>\n",
       "      <td>QEVuQwEABlEzkh7fsBBjEe26RyIVcg==</td>\n",
       "      <td>NaN</td>\n",
       "      <td>NaN</td>\n",
       "      <td>NaN</td>\n",
       "      <td>2015-11-26</td>\n",
       "      <td>1069</td>\n",
       "      <td>Condition</td>\n",
       "      <td>Ulcerative colitis</td>\n",
       "      <td>0</td>\n",
       "    </tr>\n",
       "    <tr>\n",
       "      <td>1</td>\n",
       "      <td>QEVuQwEAWRNGnuTRqXG2996KSkTIEw==</td>\n",
       "      <td>31.0</td>\n",
       "      <td>male</td>\n",
       "      <td>US</td>\n",
       "      <td>2015-11-26</td>\n",
       "      <td>1069</td>\n",
       "      <td>Condition</td>\n",
       "      <td>Ulcerative colitis</td>\n",
       "      <td>0</td>\n",
       "    </tr>\n",
       "    <tr>\n",
       "      <td>2</td>\n",
       "      <td>QEVuQwEA+WkNxtp/qkHvN2YmTBBDqg==</td>\n",
       "      <td>1.0</td>\n",
       "      <td>female</td>\n",
       "      <td>CA</td>\n",
       "      <td>2017-04-28</td>\n",
       "      <td>3168</td>\n",
       "      <td>Condition</td>\n",
       "      <td>pain in left upper arm felt like i was getting...</td>\n",
       "      <td>4</td>\n",
       "    </tr>\n",
       "    <tr>\n",
       "      <td>3</td>\n",
       "      <td>QEVuQwEA+WkNxtp/qkHvN2YmTBBDqg==</td>\n",
       "      <td>1.0</td>\n",
       "      <td>female</td>\n",
       "      <td>CA</td>\n",
       "      <td>2017-04-28</td>\n",
       "      <td>3169</td>\n",
       "      <td>Condition</td>\n",
       "      <td>hip pain when gettin up</td>\n",
       "      <td>3</td>\n",
       "    </tr>\n",
       "    <tr>\n",
       "      <td>4</td>\n",
       "      <td>QEVuQwEA+WkNxtp/qkHvN2YmTBBDqg==</td>\n",
       "      <td>1.0</td>\n",
       "      <td>female</td>\n",
       "      <td>CA</td>\n",
       "      <td>2017-04-28</td>\n",
       "      <td>3170</td>\n",
       "      <td>Condition</td>\n",
       "      <td>pain in hand joints</td>\n",
       "      <td>4</td>\n",
       "    </tr>\n",
       "  </tbody>\n",
       "</table>\n",
       "</div>"
      ],
      "text/plain": [
       "                            user_id   age     sex country checkin_date  \\\n",
       "0  QEVuQwEABlEzkh7fsBBjEe26RyIVcg==   NaN     NaN     NaN   2015-11-26   \n",
       "1  QEVuQwEAWRNGnuTRqXG2996KSkTIEw==  31.0    male      US   2015-11-26   \n",
       "2  QEVuQwEA+WkNxtp/qkHvN2YmTBBDqg==   1.0  female      CA   2017-04-28   \n",
       "3  QEVuQwEA+WkNxtp/qkHvN2YmTBBDqg==   1.0  female      CA   2017-04-28   \n",
       "4  QEVuQwEA+WkNxtp/qkHvN2YmTBBDqg==   1.0  female      CA   2017-04-28   \n",
       "\n",
       "  trackable_id trackable_type  \\\n",
       "0         1069      Condition   \n",
       "1         1069      Condition   \n",
       "2         3168      Condition   \n",
       "3         3169      Condition   \n",
       "4         3170      Condition   \n",
       "\n",
       "                                      trackable_name trackable_value  \n",
       "0                                 Ulcerative colitis               0  \n",
       "1                                 Ulcerative colitis               0  \n",
       "2  pain in left upper arm felt like i was getting...               4  \n",
       "3                            hip pain when gettin up               3  \n",
       "4                                pain in hand joints               4  "
      ]
     },
     "execution_count": 24,
     "metadata": {},
     "output_type": "execute_result"
    }
   ],
   "source": [
    "data.head()"
   ]
  },
  {
   "cell_type": "code",
   "execution_count": 25,
   "metadata": {
    "ExecuteTime": {
     "end_time": "2021-02-10T22:00:54.024391Z",
     "start_time": "2021-02-10T22:00:53.624459Z"
    }
   },
   "outputs": [],
   "source": [
    "conditions = pd.DataFrame(data[data['trackable_type'] == 'Condition'])"
   ]
  },
  {
   "cell_type": "code",
   "execution_count": 26,
   "metadata": {
    "ExecuteTime": {
     "end_time": "2021-02-10T22:00:54.056304Z",
     "start_time": "2021-02-10T22:00:54.027382Z"
    }
   },
   "outputs": [
    {
     "data": {
      "text/html": [
       "<div>\n",
       "<style scoped>\n",
       "    .dataframe tbody tr th:only-of-type {\n",
       "        vertical-align: middle;\n",
       "    }\n",
       "\n",
       "    .dataframe tbody tr th {\n",
       "        vertical-align: top;\n",
       "    }\n",
       "\n",
       "    .dataframe thead th {\n",
       "        text-align: right;\n",
       "    }\n",
       "</style>\n",
       "<table border=\"1\" class=\"dataframe\">\n",
       "  <thead>\n",
       "    <tr style=\"text-align: right;\">\n",
       "      <th></th>\n",
       "      <th>user_id</th>\n",
       "      <th>age</th>\n",
       "      <th>sex</th>\n",
       "      <th>country</th>\n",
       "      <th>checkin_date</th>\n",
       "      <th>trackable_id</th>\n",
       "      <th>trackable_type</th>\n",
       "      <th>trackable_name</th>\n",
       "      <th>trackable_value</th>\n",
       "    </tr>\n",
       "  </thead>\n",
       "  <tbody>\n",
       "    <tr>\n",
       "      <td>0</td>\n",
       "      <td>QEVuQwEABlEzkh7fsBBjEe26RyIVcg==</td>\n",
       "      <td>NaN</td>\n",
       "      <td>NaN</td>\n",
       "      <td>NaN</td>\n",
       "      <td>2015-11-26</td>\n",
       "      <td>1069</td>\n",
       "      <td>Condition</td>\n",
       "      <td>Ulcerative colitis</td>\n",
       "      <td>0</td>\n",
       "    </tr>\n",
       "    <tr>\n",
       "      <td>1</td>\n",
       "      <td>QEVuQwEAWRNGnuTRqXG2996KSkTIEw==</td>\n",
       "      <td>31.0</td>\n",
       "      <td>male</td>\n",
       "      <td>US</td>\n",
       "      <td>2015-11-26</td>\n",
       "      <td>1069</td>\n",
       "      <td>Condition</td>\n",
       "      <td>Ulcerative colitis</td>\n",
       "      <td>0</td>\n",
       "    </tr>\n",
       "    <tr>\n",
       "      <td>2</td>\n",
       "      <td>QEVuQwEA+WkNxtp/qkHvN2YmTBBDqg==</td>\n",
       "      <td>1.0</td>\n",
       "      <td>female</td>\n",
       "      <td>CA</td>\n",
       "      <td>2017-04-28</td>\n",
       "      <td>3168</td>\n",
       "      <td>Condition</td>\n",
       "      <td>pain in left upper arm felt like i was getting...</td>\n",
       "      <td>4</td>\n",
       "    </tr>\n",
       "    <tr>\n",
       "      <td>3</td>\n",
       "      <td>QEVuQwEA+WkNxtp/qkHvN2YmTBBDqg==</td>\n",
       "      <td>1.0</td>\n",
       "      <td>female</td>\n",
       "      <td>CA</td>\n",
       "      <td>2017-04-28</td>\n",
       "      <td>3169</td>\n",
       "      <td>Condition</td>\n",
       "      <td>hip pain when gettin up</td>\n",
       "      <td>3</td>\n",
       "    </tr>\n",
       "    <tr>\n",
       "      <td>4</td>\n",
       "      <td>QEVuQwEA+WkNxtp/qkHvN2YmTBBDqg==</td>\n",
       "      <td>1.0</td>\n",
       "      <td>female</td>\n",
       "      <td>CA</td>\n",
       "      <td>2017-04-28</td>\n",
       "      <td>3170</td>\n",
       "      <td>Condition</td>\n",
       "      <td>pain in hand joints</td>\n",
       "      <td>4</td>\n",
       "    </tr>\n",
       "  </tbody>\n",
       "</table>\n",
       "</div>"
      ],
      "text/plain": [
       "                            user_id   age     sex country checkin_date  \\\n",
       "0  QEVuQwEABlEzkh7fsBBjEe26RyIVcg==   NaN     NaN     NaN   2015-11-26   \n",
       "1  QEVuQwEAWRNGnuTRqXG2996KSkTIEw==  31.0    male      US   2015-11-26   \n",
       "2  QEVuQwEA+WkNxtp/qkHvN2YmTBBDqg==   1.0  female      CA   2017-04-28   \n",
       "3  QEVuQwEA+WkNxtp/qkHvN2YmTBBDqg==   1.0  female      CA   2017-04-28   \n",
       "4  QEVuQwEA+WkNxtp/qkHvN2YmTBBDqg==   1.0  female      CA   2017-04-28   \n",
       "\n",
       "  trackable_id trackable_type  \\\n",
       "0         1069      Condition   \n",
       "1         1069      Condition   \n",
       "2         3168      Condition   \n",
       "3         3169      Condition   \n",
       "4         3170      Condition   \n",
       "\n",
       "                                      trackable_name trackable_value  \n",
       "0                                 Ulcerative colitis               0  \n",
       "1                                 Ulcerative colitis               0  \n",
       "2  pain in left upper arm felt like i was getting...               4  \n",
       "3                            hip pain when gettin up               3  \n",
       "4                                pain in hand joints               4  "
      ]
     },
     "execution_count": 26,
     "metadata": {},
     "output_type": "execute_result"
    }
   ],
   "source": [
    "conditions.head()"
   ]
  },
  {
   "cell_type": "code",
   "execution_count": 35,
   "metadata": {
    "ExecuteTime": {
     "end_time": "2021-02-10T22:01:11.379352Z",
     "start_time": "2021-02-10T22:01:11.083807Z"
    },
    "scrolled": true
   },
   "outputs": [
    {
     "data": {
      "text/plain": [
       "<matplotlib.axes._subplots.AxesSubplot at 0x2c217e58cc0>"
      ]
     },
     "execution_count": 35,
     "metadata": {},
     "output_type": "execute_result"
    },
    {
     "data": {
      "image/png": "[encoded data removed]",
      "text/plain": [
       "<Figure size 432x288 with 1 Axes>"
      ]
     },
     "metadata": {
      "needs_background": "light"
     },
     "output_type": "display_data"
    }
   ],
   "source": [
    "conditions['trackable_name'].value_counts().head(15).plot(kind='barh')"
   ]
  },
  {
   "cell_type": "code",
   "execution_count": 38,
   "metadata": {
    "ExecuteTime": {
     "end_time": "2021-02-10T22:04:07.717681Z",
     "start_time": "2021-02-10T22:04:07.629928Z"
    },
    "scrolled": true
   },
   "outputs": [
    {
     "data": {
      "text/plain": [
       "{'Fibromyalgia': 29112,\n",
       " 'Depression': 24515,\n",
       " 'Anxiety': 20756,\n",
       " 'Chronic fatigue syndrome': 15042,\n",
       " 'Migraine': 12625,\n",
       " 'IBS': 8105,\n",
       " 'Endometriosis': 8084,\n",
       " 'Ehlers-Danlos syndrome': 7687,\n",
       " 'Asthma': 7264,\n",
       " 'Irritable bowel syndrome': 7115,\n",
       " 'Fatigue': 6638,\n",
       " 'Generalized anxiety disorder': 5613,\n",
       " 'Headaches': 5178,\n",
       " 'Chronic Migraines': 4748,\n",
       " 'joint pain': 4673}"
      ]
     },
     "execution_count": 38,
     "metadata": {},
     "output_type": "execute_result"
    }
   ],
   "source": [
    "cd = conditions['trackable_name'].value_counts().head(15).to_dict()\n",
    "cd"
   ]
  },
  {
   "cell_type": "code",
   "execution_count": 39,
   "metadata": {
    "ExecuteTime": {
     "end_time": "2021-02-10T22:04:48.662030Z",
     "start_time": "2021-02-10T22:04:48.643629Z"
    }
   },
   "outputs": [],
   "source": [
    "l = []\n",
    "for k, v in cd.items():\n",
    "    l.append(k)\n",
    "    "
   ]
  },
  {
   "cell_type": "code",
   "execution_count": 42,
   "metadata": {
    "ExecuteTime": {
     "end_time": "2021-02-10T22:07:13.462732Z",
     "start_time": "2021-02-10T22:07:13.453759Z"
    }
   },
   "outputs": [
    {
     "data": {
      "text/plain": [
       "['Fibromyalgia',\n",
       " 'Depression',\n",
       " 'Anxiety',\n",
       " 'Chronic fatigue syndrome',\n",
       " 'Migraine',\n",
       " 'IBS',\n",
       " 'Endometriosis',\n",
       " 'Ehlers-Danlos syndrome',\n",
       " 'Asthma',\n",
       " 'Irritable bowel syndrome',\n",
       " 'Fatigue',\n",
       " 'Generalized anxiety disorder',\n",
       " 'Headaches',\n",
       " 'Chronic Migraines',\n",
       " 'joint pain']"
      ]
     },
     "execution_count": 42,
     "metadata": {},
     "output_type": "execute_result"
    }
   ],
   "source": [
    "l"
   ]
  },
  {
   "cell_type": "code",
   "execution_count": 45,
   "metadata": {
    "ExecuteTime": {
     "end_time": "2021-02-10T22:08:59.659440Z",
     "start_time": "2021-02-10T22:08:59.359243Z"
    }
   },
   "outputs": [
    {
     "data": {
      "text/html": [
       "<div>\n",
       "<style scoped>\n",
       "    .dataframe tbody tr th:only-of-type {\n",
       "        vertical-align: middle;\n",
       "    }\n",
       "\n",
       "    .dataframe tbody tr th {\n",
       "        vertical-align: top;\n",
       "    }\n",
       "\n",
       "    .dataframe thead th {\n",
       "        text-align: right;\n",
       "    }\n",
       "</style>\n",
       "<table border=\"1\" class=\"dataframe\">\n",
       "  <thead>\n",
       "    <tr style=\"text-align: right;\">\n",
       "      <th></th>\n",
       "      <th>user_id</th>\n",
       "      <th>age</th>\n",
       "      <th>sex</th>\n",
       "      <th>country</th>\n",
       "      <th>checkin_date</th>\n",
       "      <th>trackable_id</th>\n",
       "      <th>trackable_type</th>\n",
       "      <th>trackable_name</th>\n",
       "      <th>trackable_value</th>\n",
       "    </tr>\n",
       "  </thead>\n",
       "  <tbody>\n",
       "    <tr>\n",
       "      <td>30</td>\n",
       "      <td>QEVuQwEAO+R1md5HUn8+w1Qpbg7ogw==</td>\n",
       "      <td>NaN</td>\n",
       "      <td>NaN</td>\n",
       "      <td>NaN</td>\n",
       "      <td>2015-06-14</td>\n",
       "      <td>423</td>\n",
       "      <td>Condition</td>\n",
       "      <td>Generalized anxiety disorder</td>\n",
       "      <td>0</td>\n",
       "    </tr>\n",
       "    <tr>\n",
       "      <td>32</td>\n",
       "      <td>QEVuQwEAO+R1md5HUn8+w1Qpbg7ogw==</td>\n",
       "      <td>NaN</td>\n",
       "      <td>NaN</td>\n",
       "      <td>NaN</td>\n",
       "      <td>2015-06-14</td>\n",
       "      <td>8</td>\n",
       "      <td>Symptom</td>\n",
       "      <td>Anxiety</td>\n",
       "      <td>0</td>\n",
       "    </tr>\n",
       "    <tr>\n",
       "      <td>37</td>\n",
       "      <td>QEVuQwEAO+R1md5HUn8+w1Qpbg7ogw==</td>\n",
       "      <td>NaN</td>\n",
       "      <td>NaN</td>\n",
       "      <td>NaN</td>\n",
       "      <td>2015-06-11</td>\n",
       "      <td>423</td>\n",
       "      <td>Condition</td>\n",
       "      <td>Generalized anxiety disorder</td>\n",
       "      <td>1</td>\n",
       "    </tr>\n",
       "    <tr>\n",
       "      <td>39</td>\n",
       "      <td>QEVuQwEAO+R1md5HUn8+w1Qpbg7ogw==</td>\n",
       "      <td>NaN</td>\n",
       "      <td>NaN</td>\n",
       "      <td>NaN</td>\n",
       "      <td>2015-06-11</td>\n",
       "      <td>8</td>\n",
       "      <td>Symptom</td>\n",
       "      <td>Anxiety</td>\n",
       "      <td>2</td>\n",
       "    </tr>\n",
       "    <tr>\n",
       "      <td>46</td>\n",
       "      <td>QEVuQwEAO+R1md5HUn8+w1Qpbg7ogw==</td>\n",
       "      <td>NaN</td>\n",
       "      <td>NaN</td>\n",
       "      <td>NaN</td>\n",
       "      <td>2015-06-10</td>\n",
       "      <td>423</td>\n",
       "      <td>Condition</td>\n",
       "      <td>Generalized anxiety disorder</td>\n",
       "      <td>0</td>\n",
       "    </tr>\n",
       "    <tr>\n",
       "      <td>...</td>\n",
       "      <td>...</td>\n",
       "      <td>...</td>\n",
       "      <td>...</td>\n",
       "      <td>...</td>\n",
       "      <td>...</td>\n",
       "      <td>...</td>\n",
       "      <td>...</td>\n",
       "      <td>...</td>\n",
       "      <td>...</td>\n",
       "    </tr>\n",
       "    <tr>\n",
       "      <td>3487337</td>\n",
       "      <td>QEVuQwEA60JIPtdVbtWs6iJH1KYphA==</td>\n",
       "      <td>44.0</td>\n",
       "      <td>female</td>\n",
       "      <td>US</td>\n",
       "      <td>2018-07-12</td>\n",
       "      <td>242</td>\n",
       "      <td>Symptom</td>\n",
       "      <td>Fatigue</td>\n",
       "      <td>4</td>\n",
       "    </tr>\n",
       "    <tr>\n",
       "      <td>3487342</td>\n",
       "      <td>QEVuQwEA60JIPtdVbtWs6iJH1KYphA==</td>\n",
       "      <td>44.0</td>\n",
       "      <td>female</td>\n",
       "      <td>US</td>\n",
       "      <td>2018-07-12</td>\n",
       "      <td>257</td>\n",
       "      <td>Symptom</td>\n",
       "      <td>Migraine</td>\n",
       "      <td>0</td>\n",
       "    </tr>\n",
       "    <tr>\n",
       "      <td>3487414</td>\n",
       "      <td>QEVuQwEAgGZ6lkNq4Wmhdj6GPnvtbQ==</td>\n",
       "      <td>27.0</td>\n",
       "      <td>female</td>\n",
       "      <td>AU</td>\n",
       "      <td>2018-07-13</td>\n",
       "      <td>8</td>\n",
       "      <td>Symptom</td>\n",
       "      <td>Anxiety</td>\n",
       "      <td>2</td>\n",
       "    </tr>\n",
       "    <tr>\n",
       "      <td>3487423</td>\n",
       "      <td>QEVuQwEAgGZ6lkNq4Wmhdj6GPnvtbQ==</td>\n",
       "      <td>27.0</td>\n",
       "      <td>female</td>\n",
       "      <td>AU</td>\n",
       "      <td>2018-07-13</td>\n",
       "      <td>242</td>\n",
       "      <td>Symptom</td>\n",
       "      <td>Fatigue</td>\n",
       "      <td>3</td>\n",
       "    </tr>\n",
       "    <tr>\n",
       "      <td>3487618</td>\n",
       "      <td>QEVuQwEAUuGkJbPOl/k3sOZp+tkH8Q==</td>\n",
       "      <td>28.0</td>\n",
       "      <td>female</td>\n",
       "      <td>US</td>\n",
       "      <td>2018-07-12</td>\n",
       "      <td>364</td>\n",
       "      <td>Symptom</td>\n",
       "      <td>Headaches</td>\n",
       "      <td>3</td>\n",
       "    </tr>\n",
       "  </tbody>\n",
       "</table>\n",
       "<p>292108 rows × 9 columns</p>\n",
       "</div>"
      ],
      "text/plain": [
       "                                  user_id   age     sex country checkin_date  \\\n",
       "30       QEVuQwEAO+R1md5HUn8+w1Qpbg7ogw==   NaN     NaN     NaN   2015-06-14   \n",
       "32       QEVuQwEAO+R1md5HUn8+w1Qpbg7ogw==   NaN     NaN     NaN   2015-06-14   \n",
       "37       QEVuQwEAO+R1md5HUn8+w1Qpbg7ogw==   NaN     NaN     NaN   2015-06-11   \n",
       "39       QEVuQwEAO+R1md5HUn8+w1Qpbg7ogw==   NaN     NaN     NaN   2015-06-11   \n",
       "46       QEVuQwEAO+R1md5HUn8+w1Qpbg7ogw==   NaN     NaN     NaN   2015-06-10   \n",
       "...                                   ...   ...     ...     ...          ...   \n",
       "3487337  QEVuQwEA60JIPtdVbtWs6iJH1KYphA==  44.0  female      US   2018-07-12   \n",
       "3487342  QEVuQwEA60JIPtdVbtWs6iJH1KYphA==  44.0  female      US   2018-07-12   \n",
       "3487414  QEVuQwEAgGZ6lkNq4Wmhdj6GPnvtbQ==  27.0  female      AU   2018-07-13   \n",
       "3487423  QEVuQwEAgGZ6lkNq4Wmhdj6GPnvtbQ==  27.0  female      AU   2018-07-13   \n",
       "3487618  QEVuQwEAUuGkJbPOl/k3sOZp+tkH8Q==  28.0  female      US   2018-07-12   \n",
       "\n",
       "        trackable_id trackable_type                trackable_name  \\\n",
       "30               423      Condition  Generalized anxiety disorder   \n",
       "32                 8        Symptom                       Anxiety   \n",
       "37               423      Condition  Generalized anxiety disorder   \n",
       "39                 8        Symptom                       Anxiety   \n",
       "46               423      Condition  Generalized anxiety disorder   \n",
       "...              ...            ...                           ...   \n",
       "3487337          242        Symptom                       Fatigue   \n",
       "3487342          257        Symptom                      Migraine   \n",
       "3487414            8        Symptom                       Anxiety   \n",
       "3487423          242        Symptom                       Fatigue   \n",
       "3487618          364        Symptom                     Headaches   \n",
       "\n",
       "        trackable_value  \n",
       "30                    0  \n",
       "32                    0  \n",
       "37                    1  \n",
       "39                    2  \n",
       "46                    0  \n",
       "...                 ...  \n",
       "3487337               4  \n",
       "3487342               0  \n",
       "3487414               2  \n",
       "3487423               3  \n",
       "3487618               3  \n",
       "\n",
       "[292108 rows x 9 columns]"
      ]
     },
     "execution_count": 45,
     "metadata": {},
     "output_type": "execute_result"
    }
   ],
   "source": [
    "data[data['trackable_name'].isin(['Fibromyalgia',\n",
    " 'Depression',\n",
    " 'Anxiety',\n",
    " 'Chronic fatigue syndrome',\n",
    " 'Migraine',\n",
    " 'IBS',\n",
    " 'Endometriosis',\n",
    " 'Ehlers-Danlos syndrome',\n",
    " 'Asthma',\n",
    " 'Irritable bowel syndrome',\n",
    " 'Fatigue',\n",
    " 'Generalized anxiety disorder',\n",
    " 'Headaches',\n",
    " 'Chronic Migraines',\n",
    " 'joint pain'])]\n",
    "#t15 = pd.DataFrame(data[['trackable_name'].isin(l)])"
   ]
  },
  {
   "cell_type": "code",
   "execution_count": 28,
   "metadata": {
    "ExecuteTime": {
     "end_time": "2021-02-10T22:00:54.496852Z",
     "start_time": "2021-02-10T22:00:54.395117Z"
    }
   },
   "outputs": [],
   "source": [
    "dfc = pd.DataFrame(data[['trackable_type', 'trackable_value']]).copy()"
   ]
  },
  {
   "cell_type": "code",
   "execution_count": 29,
   "metadata": {
    "ExecuteTime": {
     "end_time": "2021-02-10T22:00:54.512798Z",
     "start_time": "2021-02-10T22:00:54.497839Z"
    },
    "scrolled": false
   },
   "outputs": [
    {
     "data": {
      "text/html": [
       "<div>\n",
       "<style scoped>\n",
       "    .dataframe tbody tr th:only-of-type {\n",
       "        vertical-align: middle;\n",
       "    }\n",
       "\n",
       "    .dataframe tbody tr th {\n",
       "        vertical-align: top;\n",
       "    }\n",
       "\n",
       "    .dataframe thead th {\n",
       "        text-align: right;\n",
       "    }\n",
       "</style>\n",
       "<table border=\"1\" class=\"dataframe\">\n",
       "  <thead>\n",
       "    <tr style=\"text-align: right;\">\n",
       "      <th></th>\n",
       "      <th>trackable_type</th>\n",
       "      <th>trackable_value</th>\n",
       "    </tr>\n",
       "  </thead>\n",
       "  <tbody>\n",
       "    <tr>\n",
       "      <td>0</td>\n",
       "      <td>Condition</td>\n",
       "      <td>0</td>\n",
       "    </tr>\n",
       "    <tr>\n",
       "      <td>1</td>\n",
       "      <td>Condition</td>\n",
       "      <td>0</td>\n",
       "    </tr>\n",
       "    <tr>\n",
       "      <td>2</td>\n",
       "      <td>Condition</td>\n",
       "      <td>4</td>\n",
       "    </tr>\n",
       "    <tr>\n",
       "      <td>3</td>\n",
       "      <td>Condition</td>\n",
       "      <td>3</td>\n",
       "    </tr>\n",
       "    <tr>\n",
       "      <td>4</td>\n",
       "      <td>Condition</td>\n",
       "      <td>4</td>\n",
       "    </tr>\n",
       "  </tbody>\n",
       "</table>\n",
       "</div>"
      ],
      "text/plain": [
       "  trackable_type trackable_value\n",
       "0      Condition               0\n",
       "1      Condition               0\n",
       "2      Condition               4\n",
       "3      Condition               3\n",
       "4      Condition               4"
      ]
     },
     "execution_count": 29,
     "metadata": {},
     "output_type": "execute_result"
    }
   ],
   "source": [
    "dfc.head()"
   ]
  },
  {
   "cell_type": "code",
   "execution_count": 30,
   "metadata": {
    "ExecuteTime": {
     "end_time": "2021-02-10T22:00:59.018602Z",
     "start_time": "2021-02-10T22:00:54.515792Z"
    },
    "scrolled": true
   },
   "outputs": [
    {
     "data": {
      "text/html": [
       "<div>\n",
       "<style scoped>\n",
       "    .dataframe tbody tr th:only-of-type {\n",
       "        vertical-align: middle;\n",
       "    }\n",
       "\n",
       "    .dataframe tbody tr th {\n",
       "        vertical-align: top;\n",
       "    }\n",
       "\n",
       "    .dataframe thead th {\n",
       "        text-align: right;\n",
       "    }\n",
       "</style>\n",
       "<table border=\"1\" class=\"dataframe\">\n",
       "  <thead>\n",
       "    <tr style=\"text-align: right;\">\n",
       "      <th>trackable_type</th>\n",
       "      <th>Condition</th>\n",
       "      <th>Food</th>\n",
       "      <th>HBI</th>\n",
       "      <th>Symptom</th>\n",
       "      <th>Tag</th>\n",
       "      <th>Treatment</th>\n",
       "      <th>Weather</th>\n",
       "    </tr>\n",
       "  </thead>\n",
       "  <tbody>\n",
       "    <tr>\n",
       "      <td>0</td>\n",
       "      <td>0</td>\n",
       "      <td>NaN</td>\n",
       "      <td>NaN</td>\n",
       "      <td>NaN</td>\n",
       "      <td>NaN</td>\n",
       "      <td>NaN</td>\n",
       "      <td>NaN</td>\n",
       "    </tr>\n",
       "    <tr>\n",
       "      <td>1</td>\n",
       "      <td>0</td>\n",
       "      <td>NaN</td>\n",
       "      <td>NaN</td>\n",
       "      <td>NaN</td>\n",
       "      <td>NaN</td>\n",
       "      <td>NaN</td>\n",
       "      <td>NaN</td>\n",
       "    </tr>\n",
       "    <tr>\n",
       "      <td>2</td>\n",
       "      <td>4</td>\n",
       "      <td>NaN</td>\n",
       "      <td>NaN</td>\n",
       "      <td>NaN</td>\n",
       "      <td>NaN</td>\n",
       "      <td>NaN</td>\n",
       "      <td>NaN</td>\n",
       "    </tr>\n",
       "    <tr>\n",
       "      <td>3</td>\n",
       "      <td>3</td>\n",
       "      <td>NaN</td>\n",
       "      <td>NaN</td>\n",
       "      <td>NaN</td>\n",
       "      <td>NaN</td>\n",
       "      <td>NaN</td>\n",
       "      <td>NaN</td>\n",
       "    </tr>\n",
       "    <tr>\n",
       "      <td>4</td>\n",
       "      <td>4</td>\n",
       "      <td>NaN</td>\n",
       "      <td>NaN</td>\n",
       "      <td>NaN</td>\n",
       "      <td>NaN</td>\n",
       "      <td>NaN</td>\n",
       "      <td>NaN</td>\n",
       "    </tr>\n",
       "    <tr>\n",
       "      <td>...</td>\n",
       "      <td>...</td>\n",
       "      <td>...</td>\n",
       "      <td>...</td>\n",
       "      <td>...</td>\n",
       "      <td>...</td>\n",
       "      <td>...</td>\n",
       "      <td>...</td>\n",
       "    </tr>\n",
       "    <tr>\n",
       "      <td>3487628</td>\n",
       "      <td>NaN</td>\n",
       "      <td>NaN</td>\n",
       "      <td>NaN</td>\n",
       "      <td>NaN</td>\n",
       "      <td>NaN</td>\n",
       "      <td>NaN</td>\n",
       "      <td>71.0</td>\n",
       "    </tr>\n",
       "    <tr>\n",
       "      <td>3487629</td>\n",
       "      <td>NaN</td>\n",
       "      <td>NaN</td>\n",
       "      <td>NaN</td>\n",
       "      <td>NaN</td>\n",
       "      <td>NaN</td>\n",
       "      <td>NaN</td>\n",
       "      <td>85.0</td>\n",
       "    </tr>\n",
       "    <tr>\n",
       "      <td>3487630</td>\n",
       "      <td>NaN</td>\n",
       "      <td>NaN</td>\n",
       "      <td>NaN</td>\n",
       "      <td>NaN</td>\n",
       "      <td>NaN</td>\n",
       "      <td>NaN</td>\n",
       "      <td>0.0</td>\n",
       "    </tr>\n",
       "    <tr>\n",
       "      <td>3487631</td>\n",
       "      <td>NaN</td>\n",
       "      <td>NaN</td>\n",
       "      <td>NaN</td>\n",
       "      <td>NaN</td>\n",
       "      <td>NaN</td>\n",
       "      <td>NaN</td>\n",
       "      <td>1014.0</td>\n",
       "    </tr>\n",
       "    <tr>\n",
       "      <td>3487632</td>\n",
       "      <td>NaN</td>\n",
       "      <td>NaN</td>\n",
       "      <td>NaN</td>\n",
       "      <td>NaN</td>\n",
       "      <td>NaN</td>\n",
       "      <td>NaN</td>\n",
       "      <td>67.0</td>\n",
       "    </tr>\n",
       "  </tbody>\n",
       "</table>\n",
       "<p>3487633 rows × 7 columns</p>\n",
       "</div>"
      ],
      "text/plain": [
       "trackable_type Condition Food  HBI Symptom  Tag Treatment Weather\n",
       "0                      0  NaN  NaN     NaN  NaN       NaN     NaN\n",
       "1                      0  NaN  NaN     NaN  NaN       NaN     NaN\n",
       "2                      4  NaN  NaN     NaN  NaN       NaN     NaN\n",
       "3                      3  NaN  NaN     NaN  NaN       NaN     NaN\n",
       "4                      4  NaN  NaN     NaN  NaN       NaN     NaN\n",
       "...                  ...  ...  ...     ...  ...       ...     ...\n",
       "3487628              NaN  NaN  NaN     NaN  NaN       NaN    71.0\n",
       "3487629              NaN  NaN  NaN     NaN  NaN       NaN    85.0\n",
       "3487630              NaN  NaN  NaN     NaN  NaN       NaN     0.0\n",
       "3487631              NaN  NaN  NaN     NaN  NaN       NaN  1014.0\n",
       "3487632              NaN  NaN  NaN     NaN  NaN       NaN    67.0\n",
       "\n",
       "[3487633 rows x 7 columns]"
      ]
     },
     "execution_count": 30,
     "metadata": {},
     "output_type": "execute_result"
    }
   ],
   "source": [
    "dfc.pivot(columns='trackable_type', values='trackable_value')"
   ]
  },
  {
   "cell_type": "code",
   "execution_count": 31,
   "metadata": {
    "ExecuteTime": {
     "end_time": "2021-02-10T22:00:59.492759Z",
     "start_time": "2021-02-10T22:00:59.021561Z"
    },
    "scrolled": true
   },
   "outputs": [
    {
     "data": {
      "text/plain": [
       "Symptom      1571134\n",
       "Weather       627480\n",
       "Condition     505461\n",
       "Treatment     383201\n",
       "Tag           207902\n",
       "Food          192360\n",
       "HBI               95\n",
       "Name: trackable_type, dtype: int64"
      ]
     },
     "execution_count": 31,
     "metadata": {},
     "output_type": "execute_result"
    }
   ],
   "source": [
    "dfc['trackable_type'].value_counts()"
   ]
  },
  {
   "cell_type": "code",
   "execution_count": 32,
   "metadata": {
    "ExecuteTime": {
     "end_time": "2021-02-10T22:00:59.805944Z",
     "start_time": "2021-02-10T22:00:59.495264Z"
    }
   },
   "outputs": [
    {
     "data": {
      "text/html": [
       "<div>\n",
       "<style scoped>\n",
       "    .dataframe tbody tr th:only-of-type {\n",
       "        vertical-align: middle;\n",
       "    }\n",
       "\n",
       "    .dataframe tbody tr th {\n",
       "        vertical-align: top;\n",
       "    }\n",
       "\n",
       "    .dataframe thead th {\n",
       "        text-align: right;\n",
       "    }\n",
       "</style>\n",
       "<table border=\"1\" class=\"dataframe\">\n",
       "  <thead>\n",
       "    <tr style=\"text-align: right;\">\n",
       "      <th></th>\n",
       "      <th>trackable_type</th>\n",
       "      <th>trackable_value</th>\n",
       "    </tr>\n",
       "  </thead>\n",
       "  <tbody>\n",
       "    <tr>\n",
       "      <td>15</td>\n",
       "      <td>Symptom</td>\n",
       "      <td>3</td>\n",
       "    </tr>\n",
       "    <tr>\n",
       "      <td>24</td>\n",
       "      <td>Symptom</td>\n",
       "      <td>1</td>\n",
       "    </tr>\n",
       "    <tr>\n",
       "      <td>31</td>\n",
       "      <td>Symptom</td>\n",
       "      <td>0</td>\n",
       "    </tr>\n",
       "    <tr>\n",
       "      <td>32</td>\n",
       "      <td>Symptom</td>\n",
       "      <td>0</td>\n",
       "    </tr>\n",
       "    <tr>\n",
       "      <td>38</td>\n",
       "      <td>Symptom</td>\n",
       "      <td>0</td>\n",
       "    </tr>\n",
       "  </tbody>\n",
       "</table>\n",
       "</div>"
      ],
      "text/plain": [
       "   trackable_type trackable_value\n",
       "15        Symptom               3\n",
       "24        Symptom               1\n",
       "31        Symptom               0\n",
       "32        Symptom               0\n",
       "38        Symptom               0"
      ]
     },
     "execution_count": 32,
     "metadata": {},
     "output_type": "execute_result"
    }
   ],
   "source": [
    "condition = dfc.groupby('trackable_type').get_group(\"Symptom\")\n",
    "condition.head()"
   ]
  },
  {
   "cell_type": "code",
   "execution_count": 33,
   "metadata": {
    "ExecuteTime": {
     "end_time": "2021-02-10T22:01:00.164060Z",
     "start_time": "2021-02-10T22:00:59.808938Z"
    }
   },
   "outputs": [
    {
     "data": {
      "text/plain": [
       "<matplotlib.axes._subplots.AxesSubplot at 0x2c2562d8dd8>"
      ]
     },
     "execution_count": 33,
     "metadata": {},
     "output_type": "execute_result"
    },
    {
     "data": {
      "image/png": "[encoded data removed]",
      "text/plain": [
       "<Figure size 432x288 with 1 Axes>"
      ]
     },
     "metadata": {
      "needs_background": "light"
     },
     "output_type": "display_data"
    }
   ],
   "source": [
    "condition['trackable_value'].value_counts().plot(kind='barh')"
   ]
  },
  {
   "cell_type": "code",
   "execution_count": 34,
   "metadata": {
    "ExecuteTime": {
     "end_time": "2021-02-10T22:01:00.354550Z",
     "start_time": "2021-02-10T22:01:00.166056Z"
    }
   },
   "outputs": [
    {
     "ename": "NameError",
     "evalue": "name 'df' is not defined",
     "output_type": "error",
     "traceback": [
      "\u001b[1;31m---------------------------------------------------------------------------\u001b[0m",
      "\u001b[1;31mNameError\u001b[0m                                 Traceback (most recent call last)",
      "\u001b[1;32m<ipython-input-34-2295e3b3df96>\u001b[0m in \u001b[0;36m<module>\u001b[1;34m\u001b[0m\n\u001b[1;32m----> 1\u001b[1;33m \u001b[0msymptom\u001b[0m \u001b[1;33m=\u001b[0m \u001b[0mdf\u001b[0m\u001b[1;33m.\u001b[0m\u001b[0mgroupby\u001b[0m\u001b[1;33m(\u001b[0m\u001b[1;34m'trackable_type'\u001b[0m\u001b[1;33m)\u001b[0m\u001b[1;33m.\u001b[0m\u001b[0mget_group\u001b[0m\u001b[1;33m(\u001b[0m\u001b[1;34m\"Symptom\"\u001b[0m\u001b[1;33m)\u001b[0m\u001b[1;33m\u001b[0m\u001b[1;33m\u001b[0m\u001b[0m\n\u001b[0m\u001b[0;32m      2\u001b[0m \u001b[0msymptom\u001b[0m\u001b[1;33m.\u001b[0m\u001b[0mhead\u001b[0m\u001b[1;33m(\u001b[0m\u001b[1;33m)\u001b[0m\u001b[1;33m\u001b[0m\u001b[1;33m\u001b[0m\u001b[0m\n",
      "\u001b[1;31mNameError\u001b[0m: name 'df' is not defined"
     ]
    }
   ],
   "source": [
    "symptom = df.groupby('trackable_type').get_group(\"Symptom\")\n",
    "symptom.head()"
   ]
  },
  {
   "cell_type": "code",
   "execution_count": null,
   "metadata": {
    "ExecuteTime": {
     "end_time": "2020-12-15T20:24:39.378875Z",
     "start_time": "2020-12-15T20:24:39.206806Z"
    }
   },
   "outputs": [],
   "source": []
  },
  {
   "cell_type": "code",
   "execution_count": null,
   "metadata": {
    "ExecuteTime": {
     "end_time": "2021-02-10T22:01:00.359538Z",
     "start_time": "2021-02-10T22:00:45.326Z"
    },
    "scrolled": true
   },
   "outputs": [],
   "source": [
    "symptom['trackable_value'].value_counts().plot(kind='barh')"
   ]
  },
  {
   "cell_type": "code",
   "execution_count": null,
   "metadata": {
    "ExecuteTime": {
     "end_time": "2021-02-10T22:01:00.361534Z",
     "start_time": "2021-02-10T22:00:45.329Z"
    },
    "scrolled": true
   },
   "outputs": [],
   "source": [
    "weather = df.groupby('trackable_type').get_group(\"Weather\")\n",
    "weather.head()"
   ]
  },
  {
   "cell_type": "code",
   "execution_count": null,
   "metadata": {
    "ExecuteTime": {
     "end_time": "2021-02-10T22:01:00.362530Z",
     "start_time": "2021-02-10T22:00:45.334Z"
    },
    "scrolled": true
   },
   "outputs": [],
   "source": [
    "import ast\n",
    "def type_of_value(var):\n",
    "    try:\n",
    "       return int(var)\n",
    "    except Exception:\n",
    "       return str"
   ]
  },
  {
   "cell_type": "code",
   "execution_count": null,
   "metadata": {
    "ExecuteTime": {
     "end_time": "2021-02-10T22:01:00.364524Z",
     "start_time": "2021-02-10T22:00:45.336Z"
    }
   },
   "outputs": [],
   "source": [
    "type_of_value(weather['trackable_value'])"
   ]
  },
  {
   "cell_type": "code",
   "execution_count": null,
   "metadata": {
    "ExecuteTime": {
     "end_time": "2021-02-10T22:01:00.366519Z",
     "start_time": "2021-02-10T22:00:45.339Z"
    },
    "scrolled": false
   },
   "outputs": [],
   "source": [
    "for v in weather['trackable_value']:\n",
    "    try:\n",
    "        int(v)\n",
    "    except:\n",
    "        str(v)"
   ]
  },
  {
   "cell_type": "code",
   "execution_count": null,
   "metadata": {
    "ExecuteTime": {
     "end_time": "2020-12-15T21:04:54.793563Z",
     "start_time": "2020-12-15T21:04:54.772987Z"
    }
   },
   "outputs": [],
   "source": []
  },
  {
   "cell_type": "code",
   "execution_count": null,
   "metadata": {
    "ExecuteTime": {
     "end_time": "2021-02-10T22:01:00.368515Z",
     "start_time": "2021-02-10T22:00:45.344Z"
    }
   },
   "outputs": [],
   "source": [
    "treatment = df.groupby('trackable_type').get_group(\"Treatment\")\n",
    "treatment.head()"
   ]
  },
  {
   "cell_type": "code",
   "execution_count": null,
   "metadata": {
    "ExecuteTime": {
     "end_time": "2021-02-10T22:01:00.370511Z",
     "start_time": "2021-02-10T22:00:45.348Z"
    }
   },
   "outputs": [],
   "source": [
    "len(treatment['trackable_value'].unique())"
   ]
  },
  {
   "cell_type": "code",
   "execution_count": null,
   "metadata": {
    "ExecuteTime": {
     "end_time": "2021-02-10T22:01:00.372503Z",
     "start_time": "2021-02-10T22:00:45.351Z"
    }
   },
   "outputs": [],
   "source": [
    "treatments = list(treatment['trackable_value'].unique())"
   ]
  },
  {
   "cell_type": "code",
   "execution_count": null,
   "metadata": {
    "ExecuteTime": {
     "end_time": "2021-02-10T22:01:00.373500Z",
     "start_time": "2021-02-10T22:00:45.354Z"
    }
   },
   "outputs": [],
   "source": [
    "treatments"
   ]
  },
  {
   "cell_type": "code",
   "execution_count": null,
   "metadata": {
    "ExecuteTime": {
     "end_time": "2021-02-10T22:01:00.375496Z",
     "start_time": "2021-02-10T22:00:45.357Z"
    }
   },
   "outputs": [],
   "source": [
    "tag = df.groupby('trackable_type').get_group(\"Tag\")\n",
    "tag.head()"
   ]
  },
  {
   "cell_type": "code",
   "execution_count": null,
   "metadata": {
    "ExecuteTime": {
     "end_time": "2021-02-10T22:01:00.377490Z",
     "start_time": "2021-02-10T22:00:45.361Z"
    }
   },
   "outputs": [],
   "source": [
    "values = list(treatment['trackable_value'].unique())"
   ]
  },
  {
   "cell_type": "code",
   "execution_count": null,
   "metadata": {
    "ExecuteTime": {
     "end_time": "2021-02-10T22:01:00.378487Z",
     "start_time": "2021-02-10T22:00:45.364Z"
    }
   },
   "outputs": [],
   "source": [
    "values"
   ]
  },
  {
   "cell_type": "code",
   "execution_count": null,
   "metadata": {},
   "outputs": [],
   "source": []
  }
 ],
 "metadata": {
  "kernelspec": {
   "display_name": "Python [conda env:learn-env] *",
   "language": "python",
   "name": "conda-env-learn-env-py"
  },
  "language_info": {
   "codemirror_mode": {
    "name": "ipython",
    "version": 3
   },
   "file_extension": ".py",
   "mimetype": "text/x-python",
   "name": "python",
   "nbconvert_exporter": "python",
   "pygments_lexer": "ipython3",
   "version": "3.6.9"
  },
  "latex_envs": {
   "LaTeX_envs_menu_present": true,
   "autoclose": false,
   "autocomplete": true,
   "bibliofile": "biblio.bib",
   "cite_by": "apalike",
   "current_citInitial": 1,
   "eqLabelWithNumbers": true,
   "eqNumInitial": 1,
   "hotkeys": {
    "equation": "Ctrl-E",
    "itemize": "Ctrl-I"
   },
   "labels_anchors": false,
   "latex_user_defs": false,
   "report_style_numbering": false,
   "user_envs_cfg": false
  },
  "toc": {
   "base_numbering": 1,
   "nav_menu": {},
   "number_sections": true,
   "sideBar": true,
   "skip_h1_title": false,
   "title_cell": "Table of Contents",
   "title_sidebar": "Contents",
   "toc_cell": false,
   "toc_position": {},
   "toc_section_display": true,
   "toc_window_display": false
  },
  "varInspector": {
   "cols": {
    "lenName": 16,
    "lenType": 16,
    "lenVar": 40
   },
   "kernels_config": {
    "python": {
     "delete_cmd_postfix": "",
     "delete_cmd_prefix": "del ",
     "library": "var_list.py",
     "varRefreshCmd": "print(var_dic_list())"
    },
    "r": {
     "delete_cmd_postfix": ") ",
     "delete_cmd_prefix": "rm(",
     "library": "var_list.r",
     "varRefreshCmd": "cat(var_dic_list()) "
    }
   },
   "types_to_exclude": [
    "module",
    "function",
    "builtin_function_or_method",
    "instance",
    "_Feature"
   ],
   "window_display": false
  }
 },
 "nbformat": 4,
 "nbformat_minor": 2
}
